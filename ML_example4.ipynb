{
  "nbformat": 4,
  "nbformat_minor": 0,
  "metadata": {
    "colab": {
      "provenance": [],
      "authorship_tag": "ABX9TyMvf4fOBlei4nnKRgYvWiir",
      "include_colab_link": true
    },
    "kernelspec": {
      "name": "python3",
      "display_name": "Python 3"
    },
    "language_info": {
      "name": "python"
    }
  },
  "cells": [
    {
      "cell_type": "markdown",
      "metadata": {
        "id": "view-in-github",
        "colab_type": "text"
      },
      "source": [
        "<a href=\"https://colab.research.google.com/github/jmbanda/CSC4850-Machine-Learning/blob/main/ML_example4.ipynb\" target=\"_parent\"><img src=\"https://colab.research.google.com/assets/colab-badge.svg\" alt=\"Open In Colab\"/></a>"
      ]
    },
    {
      "cell_type": "markdown",
      "source": [
        "# ML Examples Part 4\n",
        "\n",
        "In this notebook we will cover different sampling techniques, how to use GridSearchCV to build a pipeline and finally, plotting ROC and PR curves."
      ],
      "metadata": {
        "id": "g9R7tM4Jotwf"
      }
    },
    {
      "cell_type": "markdown",
      "source": [
        "# Introduction to Population and Sample\n",
        "\n",
        "To start with, let’s have a look at some basic terminology. It is important to learn the concepts of population and sample. The **population** is the set of all observations (individuals, objects, events, or procedures) and is usually very large and diverse, whereas a **sample** is a subset of observations from the population that ideally is a true representation of the population.\n",
        "\n",
        "<img src=\"https://miro.medium.com/v2/resize:fit:1400/format:webp/1*VnNrkwNuW2hBKA8DC84Gdg.png\">\n",
        "\n",
        "Given that experimenting with an entire population is either impossible or simply too expensive, researchers or analysts use samples rather than the entire population in their experiments or trials. To make sure that the experimental results are reliable and hold for the entire population, the sample needs to be a true representation of the population. That is, the sample needs to be unbiased."
      ],
      "metadata": {
        "id": "owEbOfxooxh1"
      }
    },
    {
      "cell_type": "markdown",
      "source": [
        "## Random Sampling\n",
        "\n",
        "The simplest data sampling technique that creates a random sample from the original population is Random Sampling. In this approach, every sampled observation has the same probability of getting selected during the sample generation process. Random Sampling is usually used when we don’t have any kind of prior information about the target population.\n",
        "\n",
        "For example random selection of 3 individuals from a population of 10 individuals. Here, each individual has an equal chance of getting selected to the sample with a probability of selection of 1/10.\n",
        "\n",
        "<img src=\"https://miro.medium.com/v2/resize:fit:1400/format:webp/1*ZWa1miELJeaGPzRUC9NwqA.png\">"
      ],
      "metadata": {
        "id": "ysGqIVQVpxeE"
      }
    },
    {
      "cell_type": "markdown",
      "source": [
        "### Random Sampling: Python Implementation\n",
        "\n",
        "\n",
        "First, we generate random data that will serve as population data. We will, therefore, randomly sample 10K data points from Normal distribution with mean mu = 10 and standard deviation std = 2. After this, we create a Python function called random_sampling() that takes population data and desired sample size and produces as output a random sample."
      ],
      "metadata": {
        "id": "_HX4GgFEp-lz"
      }
    },
    {
      "cell_type": "code",
      "source": [
        "import numpy as np\n",
        "\n",
        "# generating population data following Normal Distribution\n",
        "N = 10000\n",
        "mu = 10\n",
        "std = 2\n",
        "population_df = np.random.normal(mu,std,N)\n",
        "\n",
        "# function that creates random sample \n",
        "def random_sampling(df, n):\n",
        "    random_sample = np.random.choice(df,replace = False, size = n)\n",
        "    return(random_sample)\n",
        "randomSample = random_sampling(population_df, N)\n",
        "randomSample"
      ],
      "metadata": {
        "colab": {
          "base_uri": "https://localhost:8080/"
        },
        "id": "pe4GQIO7qD9c",
        "outputId": "9941d923-bb48-4acc-cb43-6a8695268a28"
      },
      "execution_count": 2,
      "outputs": [
        {
          "output_type": "execute_result",
          "data": {
            "text/plain": [
              "array([14.78968076,  8.15751783,  8.36155222, ...,  8.34425408,\n",
              "       10.63244894, 11.94724772])"
            ]
          },
          "metadata": {},
          "execution_count": 2
        }
      ]
    },
    {
      "cell_type": "markdown",
      "source": [
        "## Systematic Sampling\n",
        "\n",
        "Systematic sampling is defined as a probability sampling approach where the elements from a target population are selected from a random starting point and after a fixed sampling interval.\n",
        "\n",
        "Stated differently, systematic sampling is an extended version of probability sampling techniques in which each member of the group is selected at regular periods to form a sample. We calculate the sampling interval by dividing the entire population size by the desired sample size.\n",
        "\n",
        "Note that, Systematic Sampling usually produces a random sample but is not addressing the bias in the created sample.\n",
        "\n",
        "<img src=\"https://miro.medium.com/v2/resize:fit:1400/format:webp/1*FLyZ66yPDa44EYwTvP7mVQ.png\">"
      ],
      "metadata": {
        "id": "Mr3rnfiKrNcH"
      }
    },
    {
      "cell_type": "markdown",
      "source": [
        "### Systematic Sampling: Python Implementation\n",
        "\n",
        "We generate data that serve as population data as in the previous case. We then create a Python function called systematic_sample() that takes population data and interval for the sampling and produces as output a systematic sample."
      ],
      "metadata": {
        "id": "b9FiXpmdrkVo"
      }
    },
    {
      "cell_type": "code",
      "source": [
        "import numpy as np\n",
        "import pandas as pd\n",
        "# generating population data following Normal Distribution\n",
        "N = 10000\n",
        "mu = 10\n",
        "std = 2\n",
        "population_df = np.random.normal(mu,std,N)\n",
        "\n",
        "# function that creates random sample using Systematic Sampling\n",
        "def systematic_sampling(df, step):\n",
        "    id = pd.Series(np.arange(1,len(df),1))\n",
        "    df = pd.Series(df)\n",
        "    df_pd = pd.concat([id, df], axis = 1)\n",
        "    df_pd.columns = [\"id\", \"data\"]\n",
        "    # these indices will increase with the step amount not 1\n",
        "    selected_index = np.arange(1,len(df),step)\n",
        "    # using iloc for getting thee data with selected indices\n",
        "    systematic_sampling = df_pd.iloc[selected_index]\n",
        "    return(systematic_sampling)\n",
        "\n",
        "n = 10\n",
        "step = int(N/n)\n",
        "sample = systematic_sampling(population_df, step)\n",
        "sample"
      ],
      "metadata": {
        "colab": {
          "base_uri": "https://localhost:8080/",
          "height": 363
        },
        "id": "x_ULaU3Kr4B1",
        "outputId": "de6c674c-ba97-49cb-dd76-cc598e6f008a"
      },
      "execution_count": 3,
      "outputs": [
        {
          "output_type": "execute_result",
          "data": {
            "text/plain": [
              "          id       data\n",
              "1        2.0   8.261409\n",
              "1001  1002.0  10.941693\n",
              "2001  2002.0   9.506230\n",
              "3001  3002.0   7.318524\n",
              "4001  4002.0   8.510567\n",
              "5001  5002.0  10.140102\n",
              "6001  6002.0  10.121986\n",
              "7001  7002.0   7.405897\n",
              "8001  8002.0  10.172783\n",
              "9001  9002.0   7.903344"
            ],
            "text/html": [
              "\n",
              "  <div id=\"df-aa01550d-70d0-4040-9dcd-db2ec1e588c3\">\n",
              "    <div class=\"colab-df-container\">\n",
              "      <div>\n",
              "<style scoped>\n",
              "    .dataframe tbody tr th:only-of-type {\n",
              "        vertical-align: middle;\n",
              "    }\n",
              "\n",
              "    .dataframe tbody tr th {\n",
              "        vertical-align: top;\n",
              "    }\n",
              "\n",
              "    .dataframe thead th {\n",
              "        text-align: right;\n",
              "    }\n",
              "</style>\n",
              "<table border=\"1\" class=\"dataframe\">\n",
              "  <thead>\n",
              "    <tr style=\"text-align: right;\">\n",
              "      <th></th>\n",
              "      <th>id</th>\n",
              "      <th>data</th>\n",
              "    </tr>\n",
              "  </thead>\n",
              "  <tbody>\n",
              "    <tr>\n",
              "      <th>1</th>\n",
              "      <td>2.0</td>\n",
              "      <td>8.261409</td>\n",
              "    </tr>\n",
              "    <tr>\n",
              "      <th>1001</th>\n",
              "      <td>1002.0</td>\n",
              "      <td>10.941693</td>\n",
              "    </tr>\n",
              "    <tr>\n",
              "      <th>2001</th>\n",
              "      <td>2002.0</td>\n",
              "      <td>9.506230</td>\n",
              "    </tr>\n",
              "    <tr>\n",
              "      <th>3001</th>\n",
              "      <td>3002.0</td>\n",
              "      <td>7.318524</td>\n",
              "    </tr>\n",
              "    <tr>\n",
              "      <th>4001</th>\n",
              "      <td>4002.0</td>\n",
              "      <td>8.510567</td>\n",
              "    </tr>\n",
              "    <tr>\n",
              "      <th>5001</th>\n",
              "      <td>5002.0</td>\n",
              "      <td>10.140102</td>\n",
              "    </tr>\n",
              "    <tr>\n",
              "      <th>6001</th>\n",
              "      <td>6002.0</td>\n",
              "      <td>10.121986</td>\n",
              "    </tr>\n",
              "    <tr>\n",
              "      <th>7001</th>\n",
              "      <td>7002.0</td>\n",
              "      <td>7.405897</td>\n",
              "    </tr>\n",
              "    <tr>\n",
              "      <th>8001</th>\n",
              "      <td>8002.0</td>\n",
              "      <td>10.172783</td>\n",
              "    </tr>\n",
              "    <tr>\n",
              "      <th>9001</th>\n",
              "      <td>9002.0</td>\n",
              "      <td>7.903344</td>\n",
              "    </tr>\n",
              "  </tbody>\n",
              "</table>\n",
              "</div>\n",
              "      <button class=\"colab-df-convert\" onclick=\"convertToInteractive('df-aa01550d-70d0-4040-9dcd-db2ec1e588c3')\"\n",
              "              title=\"Convert this dataframe to an interactive table.\"\n",
              "              style=\"display:none;\">\n",
              "        \n",
              "  <svg xmlns=\"http://www.w3.org/2000/svg\" height=\"24px\"viewBox=\"0 0 24 24\"\n",
              "       width=\"24px\">\n",
              "    <path d=\"M0 0h24v24H0V0z\" fill=\"none\"/>\n",
              "    <path d=\"M18.56 5.44l.94 2.06.94-2.06 2.06-.94-2.06-.94-.94-2.06-.94 2.06-2.06.94zm-11 1L8.5 8.5l.94-2.06 2.06-.94-2.06-.94L8.5 2.5l-.94 2.06-2.06.94zm10 10l.94 2.06.94-2.06 2.06-.94-2.06-.94-.94-2.06-.94 2.06-2.06.94z\"/><path d=\"M17.41 7.96l-1.37-1.37c-.4-.4-.92-.59-1.43-.59-.52 0-1.04.2-1.43.59L10.3 9.45l-7.72 7.72c-.78.78-.78 2.05 0 2.83L4 21.41c.39.39.9.59 1.41.59.51 0 1.02-.2 1.41-.59l7.78-7.78 2.81-2.81c.8-.78.8-2.07 0-2.86zM5.41 20L4 18.59l7.72-7.72 1.47 1.35L5.41 20z\"/>\n",
              "  </svg>\n",
              "      </button>\n",
              "      \n",
              "  <style>\n",
              "    .colab-df-container {\n",
              "      display:flex;\n",
              "      flex-wrap:wrap;\n",
              "      gap: 12px;\n",
              "    }\n",
              "\n",
              "    .colab-df-convert {\n",
              "      background-color: #E8F0FE;\n",
              "      border: none;\n",
              "      border-radius: 50%;\n",
              "      cursor: pointer;\n",
              "      display: none;\n",
              "      fill: #1967D2;\n",
              "      height: 32px;\n",
              "      padding: 0 0 0 0;\n",
              "      width: 32px;\n",
              "    }\n",
              "\n",
              "    .colab-df-convert:hover {\n",
              "      background-color: #E2EBFA;\n",
              "      box-shadow: 0px 1px 2px rgba(60, 64, 67, 0.3), 0px 1px 3px 1px rgba(60, 64, 67, 0.15);\n",
              "      fill: #174EA6;\n",
              "    }\n",
              "\n",
              "    [theme=dark] .colab-df-convert {\n",
              "      background-color: #3B4455;\n",
              "      fill: #D2E3FC;\n",
              "    }\n",
              "\n",
              "    [theme=dark] .colab-df-convert:hover {\n",
              "      background-color: #434B5C;\n",
              "      box-shadow: 0px 1px 3px 1px rgba(0, 0, 0, 0.15);\n",
              "      filter: drop-shadow(0px 1px 2px rgba(0, 0, 0, 0.3));\n",
              "      fill: #FFFFFF;\n",
              "    }\n",
              "  </style>\n",
              "\n",
              "      <script>\n",
              "        const buttonEl =\n",
              "          document.querySelector('#df-aa01550d-70d0-4040-9dcd-db2ec1e588c3 button.colab-df-convert');\n",
              "        buttonEl.style.display =\n",
              "          google.colab.kernel.accessAllowed ? 'block' : 'none';\n",
              "\n",
              "        async function convertToInteractive(key) {\n",
              "          const element = document.querySelector('#df-aa01550d-70d0-4040-9dcd-db2ec1e588c3');\n",
              "          const dataTable =\n",
              "            await google.colab.kernel.invokeFunction('convertToInteractive',\n",
              "                                                     [key], {});\n",
              "          if (!dataTable) return;\n",
              "\n",
              "          const docLinkHtml = 'Like what you see? Visit the ' +\n",
              "            '<a target=\"_blank\" href=https://colab.research.google.com/notebooks/data_table.ipynb>data table notebook</a>'\n",
              "            + ' to learn more about interactive tables.';\n",
              "          element.innerHTML = '';\n",
              "          dataTable['output_type'] = 'display_data';\n",
              "          await google.colab.output.renderOutput(dataTable, element);\n",
              "          const docLink = document.createElement('div');\n",
              "          docLink.innerHTML = docLinkHtml;\n",
              "          element.appendChild(docLink);\n",
              "        }\n",
              "      </script>\n",
              "    </div>\n",
              "  </div>\n",
              "  "
            ]
          },
          "metadata": {},
          "execution_count": 3
        }
      ]
    },
    {
      "cell_type": "markdown",
      "source": [
        "## Cluster Sampling\n",
        "\n",
        "Cluster sampling is a probability sampling technique where we divide the population into multiple clusters(groups) based on certain clustering criteria. Then we select a random cluster(s) with simple random or systematic sampling techniques. So, in cluster sampling, the entire population is divided into clusters or segments and then cluster(s) are randomly selected.\n",
        "\n",
        "For example, if you want to conduct an experience evaluating the performance of sophomores in business education across Europe. It is impossible to conduct an experiment that involves a student in every university across the EU. Instead, by using Cluster Sampling, we can group the universities from each country into one cluster. These clusters then define all the sophomore student population in the EU. Next, you can use simple random sampling or systematic sampling and randomly select cluster(s) for the purposes of your research study.\n",
        "\n",
        "Note that, Systematic Sampling usually produces a random sample but is not addressing the bias in the created sample.\n",
        "\n",
        "<img src=\"https://miro.medium.com/v2/resize:fit:1400/format:webp/1*4GTPOFJmK3U8lY9H2nw5nw.png\">\n",
        "\n"
      ],
      "metadata": {
        "id": "XNioiksYsJBe"
      }
    },
    {
      "cell_type": "markdown",
      "source": [
        "### Cluster Sampling: Python Implementation\n",
        "\n",
        "First, we generate data that will serve as population data with 10K observations, and this data consists of the following 4 variables:\n",
        "\n",
        "Price: generated using Uniform distribution,\n",
        "Id\n",
        "event_type: which is a categorical variable with 3 possible values {type1, type2, type3}\n",
        "click: binary variable taking values {0: no click, 1: click}"
      ],
      "metadata": {
        "id": "vWMwXmOVs-_5"
      }
    },
    {
      "cell_type": "code",
      "source": [
        "import numpy as np\n",
        "import pandas as pd\n",
        "\n",
        "# Generating Population data \n",
        "price_vb = pd.Series(np.random.uniform(1,4,size = N))\n",
        "id = pd.Series(np.arange(0,len(price_vb),1))\n",
        "event_type = pd.Series(np.random.choice([\"type1\",\"type2\",\"type3\"],size = len(price_vb)))\n",
        "click = pd.Series(np.random.choice([0,1],size = len(price_vb)))\n",
        "df = pd.concat([id,price_vb,event_type, click],axis = 1)\n",
        "df.columns = [\"id\",\"price\",\"event_type\", \"click\"]\n",
        "df"
      ],
      "metadata": {
        "colab": {
          "base_uri": "https://localhost:8080/",
          "height": 424
        },
        "id": "Cgt6QvMqtKWF",
        "outputId": "a87a21d5-8e70-40c5-bcc6-ffcdeca8e912"
      },
      "execution_count": 4,
      "outputs": [
        {
          "output_type": "execute_result",
          "data": {
            "text/plain": [
              "        id     price event_type  click\n",
              "0        0  3.348591      type3      0\n",
              "1        1  1.250109      type2      1\n",
              "2        2  2.686037      type3      0\n",
              "3        3  2.691641      type1      1\n",
              "4        4  2.589645      type2      1\n",
              "...    ...       ...        ...    ...\n",
              "9995  9995  1.243976      type2      0\n",
              "9996  9996  2.246366      type3      0\n",
              "9997  9997  2.749073      type3      1\n",
              "9998  9998  2.714811      type2      0\n",
              "9999  9999  3.775007      type3      1\n",
              "\n",
              "[10000 rows x 4 columns]"
            ],
            "text/html": [
              "\n",
              "  <div id=\"df-8d245e73-2840-4b97-9559-27a57c5d9cb1\">\n",
              "    <div class=\"colab-df-container\">\n",
              "      <div>\n",
              "<style scoped>\n",
              "    .dataframe tbody tr th:only-of-type {\n",
              "        vertical-align: middle;\n",
              "    }\n",
              "\n",
              "    .dataframe tbody tr th {\n",
              "        vertical-align: top;\n",
              "    }\n",
              "\n",
              "    .dataframe thead th {\n",
              "        text-align: right;\n",
              "    }\n",
              "</style>\n",
              "<table border=\"1\" class=\"dataframe\">\n",
              "  <thead>\n",
              "    <tr style=\"text-align: right;\">\n",
              "      <th></th>\n",
              "      <th>id</th>\n",
              "      <th>price</th>\n",
              "      <th>event_type</th>\n",
              "      <th>click</th>\n",
              "    </tr>\n",
              "  </thead>\n",
              "  <tbody>\n",
              "    <tr>\n",
              "      <th>0</th>\n",
              "      <td>0</td>\n",
              "      <td>3.348591</td>\n",
              "      <td>type3</td>\n",
              "      <td>0</td>\n",
              "    </tr>\n",
              "    <tr>\n",
              "      <th>1</th>\n",
              "      <td>1</td>\n",
              "      <td>1.250109</td>\n",
              "      <td>type2</td>\n",
              "      <td>1</td>\n",
              "    </tr>\n",
              "    <tr>\n",
              "      <th>2</th>\n",
              "      <td>2</td>\n",
              "      <td>2.686037</td>\n",
              "      <td>type3</td>\n",
              "      <td>0</td>\n",
              "    </tr>\n",
              "    <tr>\n",
              "      <th>3</th>\n",
              "      <td>3</td>\n",
              "      <td>2.691641</td>\n",
              "      <td>type1</td>\n",
              "      <td>1</td>\n",
              "    </tr>\n",
              "    <tr>\n",
              "      <th>4</th>\n",
              "      <td>4</td>\n",
              "      <td>2.589645</td>\n",
              "      <td>type2</td>\n",
              "      <td>1</td>\n",
              "    </tr>\n",
              "    <tr>\n",
              "      <th>...</th>\n",
              "      <td>...</td>\n",
              "      <td>...</td>\n",
              "      <td>...</td>\n",
              "      <td>...</td>\n",
              "    </tr>\n",
              "    <tr>\n",
              "      <th>9995</th>\n",
              "      <td>9995</td>\n",
              "      <td>1.243976</td>\n",
              "      <td>type2</td>\n",
              "      <td>0</td>\n",
              "    </tr>\n",
              "    <tr>\n",
              "      <th>9996</th>\n",
              "      <td>9996</td>\n",
              "      <td>2.246366</td>\n",
              "      <td>type3</td>\n",
              "      <td>0</td>\n",
              "    </tr>\n",
              "    <tr>\n",
              "      <th>9997</th>\n",
              "      <td>9997</td>\n",
              "      <td>2.749073</td>\n",
              "      <td>type3</td>\n",
              "      <td>1</td>\n",
              "    </tr>\n",
              "    <tr>\n",
              "      <th>9998</th>\n",
              "      <td>9998</td>\n",
              "      <td>2.714811</td>\n",
              "      <td>type2</td>\n",
              "      <td>0</td>\n",
              "    </tr>\n",
              "    <tr>\n",
              "      <th>9999</th>\n",
              "      <td>9999</td>\n",
              "      <td>3.775007</td>\n",
              "      <td>type3</td>\n",
              "      <td>1</td>\n",
              "    </tr>\n",
              "  </tbody>\n",
              "</table>\n",
              "<p>10000 rows × 4 columns</p>\n",
              "</div>\n",
              "      <button class=\"colab-df-convert\" onclick=\"convertToInteractive('df-8d245e73-2840-4b97-9559-27a57c5d9cb1')\"\n",
              "              title=\"Convert this dataframe to an interactive table.\"\n",
              "              style=\"display:none;\">\n",
              "        \n",
              "  <svg xmlns=\"http://www.w3.org/2000/svg\" height=\"24px\"viewBox=\"0 0 24 24\"\n",
              "       width=\"24px\">\n",
              "    <path d=\"M0 0h24v24H0V0z\" fill=\"none\"/>\n",
              "    <path d=\"M18.56 5.44l.94 2.06.94-2.06 2.06-.94-2.06-.94-.94-2.06-.94 2.06-2.06.94zm-11 1L8.5 8.5l.94-2.06 2.06-.94-2.06-.94L8.5 2.5l-.94 2.06-2.06.94zm10 10l.94 2.06.94-2.06 2.06-.94-2.06-.94-.94-2.06-.94 2.06-2.06.94z\"/><path d=\"M17.41 7.96l-1.37-1.37c-.4-.4-.92-.59-1.43-.59-.52 0-1.04.2-1.43.59L10.3 9.45l-7.72 7.72c-.78.78-.78 2.05 0 2.83L4 21.41c.39.39.9.59 1.41.59.51 0 1.02-.2 1.41-.59l7.78-7.78 2.81-2.81c.8-.78.8-2.07 0-2.86zM5.41 20L4 18.59l7.72-7.72 1.47 1.35L5.41 20z\"/>\n",
              "  </svg>\n",
              "      </button>\n",
              "      \n",
              "  <style>\n",
              "    .colab-df-container {\n",
              "      display:flex;\n",
              "      flex-wrap:wrap;\n",
              "      gap: 12px;\n",
              "    }\n",
              "\n",
              "    .colab-df-convert {\n",
              "      background-color: #E8F0FE;\n",
              "      border: none;\n",
              "      border-radius: 50%;\n",
              "      cursor: pointer;\n",
              "      display: none;\n",
              "      fill: #1967D2;\n",
              "      height: 32px;\n",
              "      padding: 0 0 0 0;\n",
              "      width: 32px;\n",
              "    }\n",
              "\n",
              "    .colab-df-convert:hover {\n",
              "      background-color: #E2EBFA;\n",
              "      box-shadow: 0px 1px 2px rgba(60, 64, 67, 0.3), 0px 1px 3px 1px rgba(60, 64, 67, 0.15);\n",
              "      fill: #174EA6;\n",
              "    }\n",
              "\n",
              "    [theme=dark] .colab-df-convert {\n",
              "      background-color: #3B4455;\n",
              "      fill: #D2E3FC;\n",
              "    }\n",
              "\n",
              "    [theme=dark] .colab-df-convert:hover {\n",
              "      background-color: #434B5C;\n",
              "      box-shadow: 0px 1px 3px 1px rgba(0, 0, 0, 0.15);\n",
              "      filter: drop-shadow(0px 1px 2px rgba(0, 0, 0, 0.3));\n",
              "      fill: #FFFFFF;\n",
              "    }\n",
              "  </style>\n",
              "\n",
              "      <script>\n",
              "        const buttonEl =\n",
              "          document.querySelector('#df-8d245e73-2840-4b97-9559-27a57c5d9cb1 button.colab-df-convert');\n",
              "        buttonEl.style.display =\n",
              "          google.colab.kernel.accessAllowed ? 'block' : 'none';\n",
              "\n",
              "        async function convertToInteractive(key) {\n",
              "          const element = document.querySelector('#df-8d245e73-2840-4b97-9559-27a57c5d9cb1');\n",
              "          const dataTable =\n",
              "            await google.colab.kernel.invokeFunction('convertToInteractive',\n",
              "                                                     [key], {});\n",
              "          if (!dataTable) return;\n",
              "\n",
              "          const docLinkHtml = 'Like what you see? Visit the ' +\n",
              "            '<a target=\"_blank\" href=https://colab.research.google.com/notebooks/data_table.ipynb>data table notebook</a>'\n",
              "            + ' to learn more about interactive tables.';\n",
              "          element.innerHTML = '';\n",
              "          dataTable['output_type'] = 'display_data';\n",
              "          await google.colab.output.renderOutput(dataTable, element);\n",
              "          const docLink = document.createElement('div');\n",
              "          docLink.innerHTML = docLinkHtml;\n",
              "          element.appendChild(docLink);\n",
              "        }\n",
              "      </script>\n",
              "    </div>\n",
              "  </div>\n",
              "  "
            ]
          },
          "metadata": {},
          "execution_count": 4
        }
      ]
    },
    {
      "cell_type": "markdown",
      "source": [
        "Then the function `get_clustered_Sample()` takes as inputs the original data, the amount of observations per cluster, and a number of clusters you want to select, and produces as output a clustered sample."
      ],
      "metadata": {
        "id": "_EEQQgeetPqC"
      }
    },
    {
      "cell_type": "code",
      "source": [
        "def get_clustered_Sample(df, n_per_cluster, num_select_clusters):\n",
        "    N = len(df)\n",
        "    K = int(N/n_per_cluster)\n",
        "    data = None\n",
        "    for k in range(K):\n",
        "        sample_k = df.sample(n_per_cluster)\n",
        "        sample_k[\"cluster\"] = np.repeat(k,len(sample_k))\n",
        "        df = df.drop(index = sample_k.index)\n",
        "        data = pd.concat([data,sample_k],axis = 0)\n",
        "\n",
        "    random_chosen_clusters = np.random.randint(0,K,size = num_select_clusters)\n",
        "    samples = data[data.cluster.isin(random_chosen_clusters)]\n",
        "    return(samples)\n",
        "\n",
        "sample = get_clustered_Sample(df = df, n_per_cluster = 100, num_select_clusters = 2)\n",
        "sample"
      ],
      "metadata": {
        "colab": {
          "base_uri": "https://localhost:8080/",
          "height": 424
        },
        "id": "lVMiu7UQtViX",
        "outputId": "aa9e6a93-bb96-4165-ca40-c4649079f22f"
      },
      "execution_count": 5,
      "outputs": [
        {
          "output_type": "execute_result",
          "data": {
            "text/plain": [
              "        id     price event_type  click  cluster\n",
              "9226  9226  3.727015      type3      1       34\n",
              "7140  7140  1.419832      type2      1       34\n",
              "8641  8641  1.543819      type1      0       34\n",
              "4193  4193  1.102810      type3      1       34\n",
              "4782  4782  1.495790      type2      0       34\n",
              "...    ...       ...        ...    ...      ...\n",
              "2485  2485  2.769444      type3      1       96\n",
              "4052  4052  2.270999      type2      1       96\n",
              "4343  4343  1.173676      type2      1       96\n",
              "8690  8690  3.849399      type3      1       96\n",
              "2212  2212  1.880550      type2      1       96\n",
              "\n",
              "[200 rows x 5 columns]"
            ],
            "text/html": [
              "\n",
              "  <div id=\"df-870c0bc5-a4c1-47c1-b468-b4a40d52054d\">\n",
              "    <div class=\"colab-df-container\">\n",
              "      <div>\n",
              "<style scoped>\n",
              "    .dataframe tbody tr th:only-of-type {\n",
              "        vertical-align: middle;\n",
              "    }\n",
              "\n",
              "    .dataframe tbody tr th {\n",
              "        vertical-align: top;\n",
              "    }\n",
              "\n",
              "    .dataframe thead th {\n",
              "        text-align: right;\n",
              "    }\n",
              "</style>\n",
              "<table border=\"1\" class=\"dataframe\">\n",
              "  <thead>\n",
              "    <tr style=\"text-align: right;\">\n",
              "      <th></th>\n",
              "      <th>id</th>\n",
              "      <th>price</th>\n",
              "      <th>event_type</th>\n",
              "      <th>click</th>\n",
              "      <th>cluster</th>\n",
              "    </tr>\n",
              "  </thead>\n",
              "  <tbody>\n",
              "    <tr>\n",
              "      <th>9226</th>\n",
              "      <td>9226</td>\n",
              "      <td>3.727015</td>\n",
              "      <td>type3</td>\n",
              "      <td>1</td>\n",
              "      <td>34</td>\n",
              "    </tr>\n",
              "    <tr>\n",
              "      <th>7140</th>\n",
              "      <td>7140</td>\n",
              "      <td>1.419832</td>\n",
              "      <td>type2</td>\n",
              "      <td>1</td>\n",
              "      <td>34</td>\n",
              "    </tr>\n",
              "    <tr>\n",
              "      <th>8641</th>\n",
              "      <td>8641</td>\n",
              "      <td>1.543819</td>\n",
              "      <td>type1</td>\n",
              "      <td>0</td>\n",
              "      <td>34</td>\n",
              "    </tr>\n",
              "    <tr>\n",
              "      <th>4193</th>\n",
              "      <td>4193</td>\n",
              "      <td>1.102810</td>\n",
              "      <td>type3</td>\n",
              "      <td>1</td>\n",
              "      <td>34</td>\n",
              "    </tr>\n",
              "    <tr>\n",
              "      <th>4782</th>\n",
              "      <td>4782</td>\n",
              "      <td>1.495790</td>\n",
              "      <td>type2</td>\n",
              "      <td>0</td>\n",
              "      <td>34</td>\n",
              "    </tr>\n",
              "    <tr>\n",
              "      <th>...</th>\n",
              "      <td>...</td>\n",
              "      <td>...</td>\n",
              "      <td>...</td>\n",
              "      <td>...</td>\n",
              "      <td>...</td>\n",
              "    </tr>\n",
              "    <tr>\n",
              "      <th>2485</th>\n",
              "      <td>2485</td>\n",
              "      <td>2.769444</td>\n",
              "      <td>type3</td>\n",
              "      <td>1</td>\n",
              "      <td>96</td>\n",
              "    </tr>\n",
              "    <tr>\n",
              "      <th>4052</th>\n",
              "      <td>4052</td>\n",
              "      <td>2.270999</td>\n",
              "      <td>type2</td>\n",
              "      <td>1</td>\n",
              "      <td>96</td>\n",
              "    </tr>\n",
              "    <tr>\n",
              "      <th>4343</th>\n",
              "      <td>4343</td>\n",
              "      <td>1.173676</td>\n",
              "      <td>type2</td>\n",
              "      <td>1</td>\n",
              "      <td>96</td>\n",
              "    </tr>\n",
              "    <tr>\n",
              "      <th>8690</th>\n",
              "      <td>8690</td>\n",
              "      <td>3.849399</td>\n",
              "      <td>type3</td>\n",
              "      <td>1</td>\n",
              "      <td>96</td>\n",
              "    </tr>\n",
              "    <tr>\n",
              "      <th>2212</th>\n",
              "      <td>2212</td>\n",
              "      <td>1.880550</td>\n",
              "      <td>type2</td>\n",
              "      <td>1</td>\n",
              "      <td>96</td>\n",
              "    </tr>\n",
              "  </tbody>\n",
              "</table>\n",
              "<p>200 rows × 5 columns</p>\n",
              "</div>\n",
              "      <button class=\"colab-df-convert\" onclick=\"convertToInteractive('df-870c0bc5-a4c1-47c1-b468-b4a40d52054d')\"\n",
              "              title=\"Convert this dataframe to an interactive table.\"\n",
              "              style=\"display:none;\">\n",
              "        \n",
              "  <svg xmlns=\"http://www.w3.org/2000/svg\" height=\"24px\"viewBox=\"0 0 24 24\"\n",
              "       width=\"24px\">\n",
              "    <path d=\"M0 0h24v24H0V0z\" fill=\"none\"/>\n",
              "    <path d=\"M18.56 5.44l.94 2.06.94-2.06 2.06-.94-2.06-.94-.94-2.06-.94 2.06-2.06.94zm-11 1L8.5 8.5l.94-2.06 2.06-.94-2.06-.94L8.5 2.5l-.94 2.06-2.06.94zm10 10l.94 2.06.94-2.06 2.06-.94-2.06-.94-.94-2.06-.94 2.06-2.06.94z\"/><path d=\"M17.41 7.96l-1.37-1.37c-.4-.4-.92-.59-1.43-.59-.52 0-1.04.2-1.43.59L10.3 9.45l-7.72 7.72c-.78.78-.78 2.05 0 2.83L4 21.41c.39.39.9.59 1.41.59.51 0 1.02-.2 1.41-.59l7.78-7.78 2.81-2.81c.8-.78.8-2.07 0-2.86zM5.41 20L4 18.59l7.72-7.72 1.47 1.35L5.41 20z\"/>\n",
              "  </svg>\n",
              "      </button>\n",
              "      \n",
              "  <style>\n",
              "    .colab-df-container {\n",
              "      display:flex;\n",
              "      flex-wrap:wrap;\n",
              "      gap: 12px;\n",
              "    }\n",
              "\n",
              "    .colab-df-convert {\n",
              "      background-color: #E8F0FE;\n",
              "      border: none;\n",
              "      border-radius: 50%;\n",
              "      cursor: pointer;\n",
              "      display: none;\n",
              "      fill: #1967D2;\n",
              "      height: 32px;\n",
              "      padding: 0 0 0 0;\n",
              "      width: 32px;\n",
              "    }\n",
              "\n",
              "    .colab-df-convert:hover {\n",
              "      background-color: #E2EBFA;\n",
              "      box-shadow: 0px 1px 2px rgba(60, 64, 67, 0.3), 0px 1px 3px 1px rgba(60, 64, 67, 0.15);\n",
              "      fill: #174EA6;\n",
              "    }\n",
              "\n",
              "    [theme=dark] .colab-df-convert {\n",
              "      background-color: #3B4455;\n",
              "      fill: #D2E3FC;\n",
              "    }\n",
              "\n",
              "    [theme=dark] .colab-df-convert:hover {\n",
              "      background-color: #434B5C;\n",
              "      box-shadow: 0px 1px 3px 1px rgba(0, 0, 0, 0.15);\n",
              "      filter: drop-shadow(0px 1px 2px rgba(0, 0, 0, 0.3));\n",
              "      fill: #FFFFFF;\n",
              "    }\n",
              "  </style>\n",
              "\n",
              "      <script>\n",
              "        const buttonEl =\n",
              "          document.querySelector('#df-870c0bc5-a4c1-47c1-b468-b4a40d52054d button.colab-df-convert');\n",
              "        buttonEl.style.display =\n",
              "          google.colab.kernel.accessAllowed ? 'block' : 'none';\n",
              "\n",
              "        async function convertToInteractive(key) {\n",
              "          const element = document.querySelector('#df-870c0bc5-a4c1-47c1-b468-b4a40d52054d');\n",
              "          const dataTable =\n",
              "            await google.colab.kernel.invokeFunction('convertToInteractive',\n",
              "                                                     [key], {});\n",
              "          if (!dataTable) return;\n",
              "\n",
              "          const docLinkHtml = 'Like what you see? Visit the ' +\n",
              "            '<a target=\"_blank\" href=https://colab.research.google.com/notebooks/data_table.ipynb>data table notebook</a>'\n",
              "            + ' to learn more about interactive tables.';\n",
              "          element.innerHTML = '';\n",
              "          dataTable['output_type'] = 'display_data';\n",
              "          await google.colab.output.renderOutput(dataTable, element);\n",
              "          const docLink = document.createElement('div');\n",
              "          docLink.innerHTML = docLinkHtml;\n",
              "          element.appendChild(docLink);\n",
              "        }\n",
              "      </script>\n",
              "    </div>\n",
              "  </div>\n",
              "  "
            ]
          },
          "metadata": {},
          "execution_count": 5
        }
      ]
    },
    {
      "cell_type": "markdown",
      "source": [
        "## Weighted Sampling\n",
        "\n",
        "In some experiments, you might need items sampling probabilities to be according to weights associated with each item, that’s when the proportions of the type of observations should be taken into account. For example, you might need a sample of queries in a search engine with weight as a number of times these queries have been performed so that the sample can be analyzed for overall impact on the user experience. In this case, Weighted Sampling is much more preferred compared to Random Sampling or Systematic Sampling.\n",
        "\n",
        "Weighted Sampling is a data sampling method with weights, that intends to compensate for the selection of specific observations with unequal probabilities (oversampling), non-coverage, non-responses, and other types of bias. If a biased data set is not adjusted and a simple random sampling type of approach is used instead, then the population descriptors (e.g., mean, median) will be skewed and they will fail to correctly represent the population’s proportion to the population.\n",
        "\n",
        "Weighted Sampling addresses the bias in the sample, by creating a sample that takes into account the proportions of the type of observations in the population. Hence, Weighted Sampling usually produces a random and unbiased sample.\n",
        "\n",
        "<img src=\"https://miro.medium.com/v2/resize:fit:1400/format:webp/1*zNBVo75a4FGOLo-_ELyiyA.png\">"
      ],
      "metadata": {
        "id": "LF9066FTvBHO"
      }
    },
    {
      "cell_type": "markdown",
      "source": [
        "### Weighted Sampling: Python Implementation\n",
        "\n",
        "The function get_weighted_sample() takes as inputs the original data, and the desired sample size, and produces as output a weighted sample. Note that, the proportions, in this case, are defined based on the click event. That is, we compute the proportion of data points that had click events of 1 (let’s say X%) and 0 (Y%, where Y% = 100-X%), then we generate a random sample such that, the sample will also contain X% observations with click = 1 and Y% observations with click = 0."
      ],
      "metadata": {
        "id": "HVq5EaplvQPy"
      }
    },
    {
      "cell_type": "code",
      "source": [
        "def get_weighted_sample(df,n):\n",
        "    def get_class_prob(x):\n",
        "        weight_x = int(np.rint(n * len(x[x.click != 0]) / len(df[df.click != 0])))\n",
        "        sampled_x = x.sample(weight_x).reset_index(drop=True)\n",
        "        return (sampled_x)\n",
        "        # we are grouping by the target class we use for the proportions\n",
        "\n",
        "    weighted_sample = df.groupby('event_type').apply(get_class_prob)\n",
        "    print(weighted_sample[\"event_type\"].value_counts())\n",
        "    return (weighted_sample)\n",
        "\n",
        "sample = get_weighted_sample(df,100)\n",
        "sample"
      ],
      "metadata": {
        "colab": {
          "base_uri": "https://localhost:8080/",
          "height": 524
        },
        "id": "jbFAmJQOvVXE",
        "outputId": "ec885665-0906-410f-ef46-315dc4e533ef"
      },
      "execution_count": 6,
      "outputs": [
        {
          "output_type": "stream",
          "name": "stdout",
          "text": [
            "type3    35\n",
            "type1    33\n",
            "type2    33\n",
            "Name: event_type, dtype: int64\n"
          ]
        },
        {
          "output_type": "execute_result",
          "data": {
            "text/plain": [
              "                 id     price event_type  click\n",
              "event_type                                     \n",
              "type1      0   9691  2.616468      type1      1\n",
              "           1   7359  1.126266      type1      0\n",
              "           2   5969  1.938191      type1      0\n",
              "           3   8152  3.651034      type1      1\n",
              "           4    957  2.540044      type1      0\n",
              "...             ...       ...        ...    ...\n",
              "type3      30  8891  3.092970      type3      0\n",
              "           31   470  2.109674      type3      1\n",
              "           32  2120  3.417902      type3      1\n",
              "           33  6715  2.536572      type3      0\n",
              "           34  8656  3.670663      type3      0\n",
              "\n",
              "[101 rows x 4 columns]"
            ],
            "text/html": [
              "\n",
              "  <div id=\"df-c67c7c99-31ee-4ee1-9e7c-e4a60ddad07d\">\n",
              "    <div class=\"colab-df-container\">\n",
              "      <div>\n",
              "<style scoped>\n",
              "    .dataframe tbody tr th:only-of-type {\n",
              "        vertical-align: middle;\n",
              "    }\n",
              "\n",
              "    .dataframe tbody tr th {\n",
              "        vertical-align: top;\n",
              "    }\n",
              "\n",
              "    .dataframe thead th {\n",
              "        text-align: right;\n",
              "    }\n",
              "</style>\n",
              "<table border=\"1\" class=\"dataframe\">\n",
              "  <thead>\n",
              "    <tr style=\"text-align: right;\">\n",
              "      <th></th>\n",
              "      <th></th>\n",
              "      <th>id</th>\n",
              "      <th>price</th>\n",
              "      <th>event_type</th>\n",
              "      <th>click</th>\n",
              "    </tr>\n",
              "    <tr>\n",
              "      <th>event_type</th>\n",
              "      <th></th>\n",
              "      <th></th>\n",
              "      <th></th>\n",
              "      <th></th>\n",
              "      <th></th>\n",
              "    </tr>\n",
              "  </thead>\n",
              "  <tbody>\n",
              "    <tr>\n",
              "      <th rowspan=\"5\" valign=\"top\">type1</th>\n",
              "      <th>0</th>\n",
              "      <td>9691</td>\n",
              "      <td>2.616468</td>\n",
              "      <td>type1</td>\n",
              "      <td>1</td>\n",
              "    </tr>\n",
              "    <tr>\n",
              "      <th>1</th>\n",
              "      <td>7359</td>\n",
              "      <td>1.126266</td>\n",
              "      <td>type1</td>\n",
              "      <td>0</td>\n",
              "    </tr>\n",
              "    <tr>\n",
              "      <th>2</th>\n",
              "      <td>5969</td>\n",
              "      <td>1.938191</td>\n",
              "      <td>type1</td>\n",
              "      <td>0</td>\n",
              "    </tr>\n",
              "    <tr>\n",
              "      <th>3</th>\n",
              "      <td>8152</td>\n",
              "      <td>3.651034</td>\n",
              "      <td>type1</td>\n",
              "      <td>1</td>\n",
              "    </tr>\n",
              "    <tr>\n",
              "      <th>4</th>\n",
              "      <td>957</td>\n",
              "      <td>2.540044</td>\n",
              "      <td>type1</td>\n",
              "      <td>0</td>\n",
              "    </tr>\n",
              "    <tr>\n",
              "      <th>...</th>\n",
              "      <th>...</th>\n",
              "      <td>...</td>\n",
              "      <td>...</td>\n",
              "      <td>...</td>\n",
              "      <td>...</td>\n",
              "    </tr>\n",
              "    <tr>\n",
              "      <th rowspan=\"5\" valign=\"top\">type3</th>\n",
              "      <th>30</th>\n",
              "      <td>8891</td>\n",
              "      <td>3.092970</td>\n",
              "      <td>type3</td>\n",
              "      <td>0</td>\n",
              "    </tr>\n",
              "    <tr>\n",
              "      <th>31</th>\n",
              "      <td>470</td>\n",
              "      <td>2.109674</td>\n",
              "      <td>type3</td>\n",
              "      <td>1</td>\n",
              "    </tr>\n",
              "    <tr>\n",
              "      <th>32</th>\n",
              "      <td>2120</td>\n",
              "      <td>3.417902</td>\n",
              "      <td>type3</td>\n",
              "      <td>1</td>\n",
              "    </tr>\n",
              "    <tr>\n",
              "      <th>33</th>\n",
              "      <td>6715</td>\n",
              "      <td>2.536572</td>\n",
              "      <td>type3</td>\n",
              "      <td>0</td>\n",
              "    </tr>\n",
              "    <tr>\n",
              "      <th>34</th>\n",
              "      <td>8656</td>\n",
              "      <td>3.670663</td>\n",
              "      <td>type3</td>\n",
              "      <td>0</td>\n",
              "    </tr>\n",
              "  </tbody>\n",
              "</table>\n",
              "<p>101 rows × 4 columns</p>\n",
              "</div>\n",
              "      <button class=\"colab-df-convert\" onclick=\"convertToInteractive('df-c67c7c99-31ee-4ee1-9e7c-e4a60ddad07d')\"\n",
              "              title=\"Convert this dataframe to an interactive table.\"\n",
              "              style=\"display:none;\">\n",
              "        \n",
              "  <svg xmlns=\"http://www.w3.org/2000/svg\" height=\"24px\"viewBox=\"0 0 24 24\"\n",
              "       width=\"24px\">\n",
              "    <path d=\"M0 0h24v24H0V0z\" fill=\"none\"/>\n",
              "    <path d=\"M18.56 5.44l.94 2.06.94-2.06 2.06-.94-2.06-.94-.94-2.06-.94 2.06-2.06.94zm-11 1L8.5 8.5l.94-2.06 2.06-.94-2.06-.94L8.5 2.5l-.94 2.06-2.06.94zm10 10l.94 2.06.94-2.06 2.06-.94-2.06-.94-.94-2.06-.94 2.06-2.06.94z\"/><path d=\"M17.41 7.96l-1.37-1.37c-.4-.4-.92-.59-1.43-.59-.52 0-1.04.2-1.43.59L10.3 9.45l-7.72 7.72c-.78.78-.78 2.05 0 2.83L4 21.41c.39.39.9.59 1.41.59.51 0 1.02-.2 1.41-.59l7.78-7.78 2.81-2.81c.8-.78.8-2.07 0-2.86zM5.41 20L4 18.59l7.72-7.72 1.47 1.35L5.41 20z\"/>\n",
              "  </svg>\n",
              "      </button>\n",
              "      \n",
              "  <style>\n",
              "    .colab-df-container {\n",
              "      display:flex;\n",
              "      flex-wrap:wrap;\n",
              "      gap: 12px;\n",
              "    }\n",
              "\n",
              "    .colab-df-convert {\n",
              "      background-color: #E8F0FE;\n",
              "      border: none;\n",
              "      border-radius: 50%;\n",
              "      cursor: pointer;\n",
              "      display: none;\n",
              "      fill: #1967D2;\n",
              "      height: 32px;\n",
              "      padding: 0 0 0 0;\n",
              "      width: 32px;\n",
              "    }\n",
              "\n",
              "    .colab-df-convert:hover {\n",
              "      background-color: #E2EBFA;\n",
              "      box-shadow: 0px 1px 2px rgba(60, 64, 67, 0.3), 0px 1px 3px 1px rgba(60, 64, 67, 0.15);\n",
              "      fill: #174EA6;\n",
              "    }\n",
              "\n",
              "    [theme=dark] .colab-df-convert {\n",
              "      background-color: #3B4455;\n",
              "      fill: #D2E3FC;\n",
              "    }\n",
              "\n",
              "    [theme=dark] .colab-df-convert:hover {\n",
              "      background-color: #434B5C;\n",
              "      box-shadow: 0px 1px 3px 1px rgba(0, 0, 0, 0.15);\n",
              "      filter: drop-shadow(0px 1px 2px rgba(0, 0, 0, 0.3));\n",
              "      fill: #FFFFFF;\n",
              "    }\n",
              "  </style>\n",
              "\n",
              "      <script>\n",
              "        const buttonEl =\n",
              "          document.querySelector('#df-c67c7c99-31ee-4ee1-9e7c-e4a60ddad07d button.colab-df-convert');\n",
              "        buttonEl.style.display =\n",
              "          google.colab.kernel.accessAllowed ? 'block' : 'none';\n",
              "\n",
              "        async function convertToInteractive(key) {\n",
              "          const element = document.querySelector('#df-c67c7c99-31ee-4ee1-9e7c-e4a60ddad07d');\n",
              "          const dataTable =\n",
              "            await google.colab.kernel.invokeFunction('convertToInteractive',\n",
              "                                                     [key], {});\n",
              "          if (!dataTable) return;\n",
              "\n",
              "          const docLinkHtml = 'Like what you see? Visit the ' +\n",
              "            '<a target=\"_blank\" href=https://colab.research.google.com/notebooks/data_table.ipynb>data table notebook</a>'\n",
              "            + ' to learn more about interactive tables.';\n",
              "          element.innerHTML = '';\n",
              "          dataTable['output_type'] = 'display_data';\n",
              "          await google.colab.output.renderOutput(dataTable, element);\n",
              "          const docLink = document.createElement('div');\n",
              "          docLink.innerHTML = docLinkHtml;\n",
              "          element.appendChild(docLink);\n",
              "        }\n",
              "      </script>\n",
              "    </div>\n",
              "  </div>\n",
              "  "
            ]
          },
          "metadata": {},
          "execution_count": 6
        }
      ]
    },
    {
      "cell_type": "markdown",
      "source": [
        "# Stratified Sampling\n",
        "\n",
        "Stratified Sampling is a data sampling approach, where we divide a population into homogeneous subpopulations called strata based on specific characteristics (e.g., age, race, gender identity, location, event type etc.).\n",
        "\n",
        "Every member of the population studied should be in exactly one stratum. Each stratum is then sampled using Cluster Sampling, allowing data scientists to estimate statistical measures for each sub-population. We rely on Stratified Sampling when the populations’ characteristics are diverse and we want to ensure that every characteristic is properly represented in the sample.\n",
        "\n",
        "So, Stratified Sampling, is simply, the combination of Clustered Sampling and Weighted Sampling.\n",
        "\n",
        "<img src=\"https://miro.medium.com/v2/resize:fit:1400/format:webp/1*iVf_CmE2kERqN9it8UI6Tg.png\">"
      ],
      "metadata": {
        "id": "CAZ1imNduaab"
      }
    },
    {
      "cell_type": "markdown",
      "source": [
        "## Stratified Sampling: Python Implementation\n",
        "\n",
        "The function get_stratified_sample() takes as inputs the original data, the desired sample size, the number of clusters needed, and it produces as output a stratified sample. Note that, this function, firstly performs weighted sampling using the click event. Secondly, it performs clustered sampling using the event_type."
      ],
      "metadata": {
        "id": "izcmO0Kcu4Nt"
      }
    },
    {
      "cell_type": "code",
      "source": [
        "def get_startified_sample(df,n,num_clusters_needed):\n",
        "    N = len(df)\n",
        "    num_obs_per_cluster = int(N/n)\n",
        "    K = int(N/num_obs_per_cluster)\n",
        "\n",
        "    def get_weighted_sample(df,num_obs_per_cluster):\n",
        "        def get_sample_per_class(x):\n",
        "            n_x = int(np.rint(num_obs_per_cluster*len(x[x.click !=0])/len(df[df.click !=0])))\n",
        "            sample_x = x.sample(n_x)\n",
        "            return(sample_x)\n",
        "        weighted_sample = df.groupby(\"event_type\").apply(get_sample_per_class)\n",
        "        return(weighted_sample)\n",
        "\n",
        "    stratas = None\n",
        "    for k in range(K):\n",
        "        weighted_sample_k = get_weighted_sample(df,num_obs_per_cluster).reset_index(drop = True)\n",
        "        weighted_sample_k[\"cluster\"] = np.repeat(k,len(weighted_sample_k))\n",
        "        stratas = pd.concat([stratas, weighted_sample_k],axis = 0)\n",
        "        df.drop(index = weighted_sample_k.index)\n",
        "    selected_strata_clusters = np.random.randint(0,K,size = num_clusters_needed)\n",
        "    stratified_samples = stratas[stratas.cluster.isin(selected_strata_clusters)]\n",
        "    return(stratified_samples)\n",
        "\n",
        "sample = get_startified_sample(df = df,n = 100,num_clusters_needed = 2)\n",
        "sample"
      ],
      "metadata": {
        "colab": {
          "base_uri": "https://localhost:8080/",
          "height": 424
        },
        "id": "opaGWZ_0vzH6",
        "outputId": "6c2c94d4-9d3e-4cd5-b203-6394a616c219"
      },
      "execution_count": 7,
      "outputs": [
        {
          "output_type": "execute_result",
          "data": {
            "text/plain": [
              "       id     price event_type  click  cluster\n",
              "0    9888  3.124357      type1      1       13\n",
              "1    8516  1.475911      type1      1       13\n",
              "2    3124  3.225580      type1      0       13\n",
              "3    9749  1.070361      type1      1       13\n",
              "4    8255  3.583826      type1      0       13\n",
              "..    ...       ...        ...    ...      ...\n",
              "96    846  3.692454      type3      1       67\n",
              "97   3970  3.764113      type3      0       67\n",
              "98    841  1.075733      type3      1       67\n",
              "99   3545  3.049979      type3      1       67\n",
              "100  2183  2.793530      type3      1       67\n",
              "\n",
              "[202 rows x 5 columns]"
            ],
            "text/html": [
              "\n",
              "  <div id=\"df-2d93195b-f57c-4d01-9283-7aef95498df3\">\n",
              "    <div class=\"colab-df-container\">\n",
              "      <div>\n",
              "<style scoped>\n",
              "    .dataframe tbody tr th:only-of-type {\n",
              "        vertical-align: middle;\n",
              "    }\n",
              "\n",
              "    .dataframe tbody tr th {\n",
              "        vertical-align: top;\n",
              "    }\n",
              "\n",
              "    .dataframe thead th {\n",
              "        text-align: right;\n",
              "    }\n",
              "</style>\n",
              "<table border=\"1\" class=\"dataframe\">\n",
              "  <thead>\n",
              "    <tr style=\"text-align: right;\">\n",
              "      <th></th>\n",
              "      <th>id</th>\n",
              "      <th>price</th>\n",
              "      <th>event_type</th>\n",
              "      <th>click</th>\n",
              "      <th>cluster</th>\n",
              "    </tr>\n",
              "  </thead>\n",
              "  <tbody>\n",
              "    <tr>\n",
              "      <th>0</th>\n",
              "      <td>9888</td>\n",
              "      <td>3.124357</td>\n",
              "      <td>type1</td>\n",
              "      <td>1</td>\n",
              "      <td>13</td>\n",
              "    </tr>\n",
              "    <tr>\n",
              "      <th>1</th>\n",
              "      <td>8516</td>\n",
              "      <td>1.475911</td>\n",
              "      <td>type1</td>\n",
              "      <td>1</td>\n",
              "      <td>13</td>\n",
              "    </tr>\n",
              "    <tr>\n",
              "      <th>2</th>\n",
              "      <td>3124</td>\n",
              "      <td>3.225580</td>\n",
              "      <td>type1</td>\n",
              "      <td>0</td>\n",
              "      <td>13</td>\n",
              "    </tr>\n",
              "    <tr>\n",
              "      <th>3</th>\n",
              "      <td>9749</td>\n",
              "      <td>1.070361</td>\n",
              "      <td>type1</td>\n",
              "      <td>1</td>\n",
              "      <td>13</td>\n",
              "    </tr>\n",
              "    <tr>\n",
              "      <th>4</th>\n",
              "      <td>8255</td>\n",
              "      <td>3.583826</td>\n",
              "      <td>type1</td>\n",
              "      <td>0</td>\n",
              "      <td>13</td>\n",
              "    </tr>\n",
              "    <tr>\n",
              "      <th>...</th>\n",
              "      <td>...</td>\n",
              "      <td>...</td>\n",
              "      <td>...</td>\n",
              "      <td>...</td>\n",
              "      <td>...</td>\n",
              "    </tr>\n",
              "    <tr>\n",
              "      <th>96</th>\n",
              "      <td>846</td>\n",
              "      <td>3.692454</td>\n",
              "      <td>type3</td>\n",
              "      <td>1</td>\n",
              "      <td>67</td>\n",
              "    </tr>\n",
              "    <tr>\n",
              "      <th>97</th>\n",
              "      <td>3970</td>\n",
              "      <td>3.764113</td>\n",
              "      <td>type3</td>\n",
              "      <td>0</td>\n",
              "      <td>67</td>\n",
              "    </tr>\n",
              "    <tr>\n",
              "      <th>98</th>\n",
              "      <td>841</td>\n",
              "      <td>1.075733</td>\n",
              "      <td>type3</td>\n",
              "      <td>1</td>\n",
              "      <td>67</td>\n",
              "    </tr>\n",
              "    <tr>\n",
              "      <th>99</th>\n",
              "      <td>3545</td>\n",
              "      <td>3.049979</td>\n",
              "      <td>type3</td>\n",
              "      <td>1</td>\n",
              "      <td>67</td>\n",
              "    </tr>\n",
              "    <tr>\n",
              "      <th>100</th>\n",
              "      <td>2183</td>\n",
              "      <td>2.793530</td>\n",
              "      <td>type3</td>\n",
              "      <td>1</td>\n",
              "      <td>67</td>\n",
              "    </tr>\n",
              "  </tbody>\n",
              "</table>\n",
              "<p>202 rows × 5 columns</p>\n",
              "</div>\n",
              "      <button class=\"colab-df-convert\" onclick=\"convertToInteractive('df-2d93195b-f57c-4d01-9283-7aef95498df3')\"\n",
              "              title=\"Convert this dataframe to an interactive table.\"\n",
              "              style=\"display:none;\">\n",
              "        \n",
              "  <svg xmlns=\"http://www.w3.org/2000/svg\" height=\"24px\"viewBox=\"0 0 24 24\"\n",
              "       width=\"24px\">\n",
              "    <path d=\"M0 0h24v24H0V0z\" fill=\"none\"/>\n",
              "    <path d=\"M18.56 5.44l.94 2.06.94-2.06 2.06-.94-2.06-.94-.94-2.06-.94 2.06-2.06.94zm-11 1L8.5 8.5l.94-2.06 2.06-.94-2.06-.94L8.5 2.5l-.94 2.06-2.06.94zm10 10l.94 2.06.94-2.06 2.06-.94-2.06-.94-.94-2.06-.94 2.06-2.06.94z\"/><path d=\"M17.41 7.96l-1.37-1.37c-.4-.4-.92-.59-1.43-.59-.52 0-1.04.2-1.43.59L10.3 9.45l-7.72 7.72c-.78.78-.78 2.05 0 2.83L4 21.41c.39.39.9.59 1.41.59.51 0 1.02-.2 1.41-.59l7.78-7.78 2.81-2.81c.8-.78.8-2.07 0-2.86zM5.41 20L4 18.59l7.72-7.72 1.47 1.35L5.41 20z\"/>\n",
              "  </svg>\n",
              "      </button>\n",
              "      \n",
              "  <style>\n",
              "    .colab-df-container {\n",
              "      display:flex;\n",
              "      flex-wrap:wrap;\n",
              "      gap: 12px;\n",
              "    }\n",
              "\n",
              "    .colab-df-convert {\n",
              "      background-color: #E8F0FE;\n",
              "      border: none;\n",
              "      border-radius: 50%;\n",
              "      cursor: pointer;\n",
              "      display: none;\n",
              "      fill: #1967D2;\n",
              "      height: 32px;\n",
              "      padding: 0 0 0 0;\n",
              "      width: 32px;\n",
              "    }\n",
              "\n",
              "    .colab-df-convert:hover {\n",
              "      background-color: #E2EBFA;\n",
              "      box-shadow: 0px 1px 2px rgba(60, 64, 67, 0.3), 0px 1px 3px 1px rgba(60, 64, 67, 0.15);\n",
              "      fill: #174EA6;\n",
              "    }\n",
              "\n",
              "    [theme=dark] .colab-df-convert {\n",
              "      background-color: #3B4455;\n",
              "      fill: #D2E3FC;\n",
              "    }\n",
              "\n",
              "    [theme=dark] .colab-df-convert:hover {\n",
              "      background-color: #434B5C;\n",
              "      box-shadow: 0px 1px 3px 1px rgba(0, 0, 0, 0.15);\n",
              "      filter: drop-shadow(0px 1px 2px rgba(0, 0, 0, 0.3));\n",
              "      fill: #FFFFFF;\n",
              "    }\n",
              "  </style>\n",
              "\n",
              "      <script>\n",
              "        const buttonEl =\n",
              "          document.querySelector('#df-2d93195b-f57c-4d01-9283-7aef95498df3 button.colab-df-convert');\n",
              "        buttonEl.style.display =\n",
              "          google.colab.kernel.accessAllowed ? 'block' : 'none';\n",
              "\n",
              "        async function convertToInteractive(key) {\n",
              "          const element = document.querySelector('#df-2d93195b-f57c-4d01-9283-7aef95498df3');\n",
              "          const dataTable =\n",
              "            await google.colab.kernel.invokeFunction('convertToInteractive',\n",
              "                                                     [key], {});\n",
              "          if (!dataTable) return;\n",
              "\n",
              "          const docLinkHtml = 'Like what you see? Visit the ' +\n",
              "            '<a target=\"_blank\" href=https://colab.research.google.com/notebooks/data_table.ipynb>data table notebook</a>'\n",
              "            + ' to learn more about interactive tables.';\n",
              "          element.innerHTML = '';\n",
              "          dataTable['output_type'] = 'display_data';\n",
              "          await google.colab.output.renderOutput(dataTable, element);\n",
              "          const docLink = document.createElement('div');\n",
              "          docLink.innerHTML = docLinkHtml;\n",
              "          element.appendChild(docLink);\n",
              "        }\n",
              "      </script>\n",
              "    </div>\n",
              "  </div>\n",
              "  "
            ]
          },
          "metadata": {},
          "execution_count": 7
        }
      ]
    },
    {
      "cell_type": "markdown",
      "source": [
        "# Using GridSearchCV\n",
        "\n"
      ],
      "metadata": {
        "id": "s0x4LqtH4Y5D"
      }
    },
    {
      "cell_type": "code",
      "execution_count": 8,
      "metadata": {
        "id": "zIHKVxthDZEa"
      },
      "outputs": [],
      "source": [
        "import random\n",
        "import os\n",
        "import pandas as pd\n",
        "import numpy as np\n",
        "from sklearn.svm import LinearSVC\n",
        "from sklearn.model_selection import GridSearchCV, train_test_split\n"
      ]
    },
    {
      "cell_type": "code",
      "execution_count": 9,
      "metadata": {
        "id": "IEmq50QgDZEi",
        "colab": {
          "base_uri": "https://localhost:8080/"
        },
        "outputId": "ff1e0e2e-d15b-4e99-f507-c1e93679c61b"
      },
      "outputs": [
        {
          "output_type": "stream",
          "name": "stdout",
          "text": [
            "--2023-03-06 14:53:35--  http://nube.jccm.es/index.php/s/Zs7SYtZQJ3RQ2H2/download\n",
            "Resolving nube.jccm.es (nube.jccm.es)... 89.107.242.157\n",
            "Connecting to nube.jccm.es (nube.jccm.es)|89.107.242.157|:80... connected.\n",
            "HTTP request sent, awaiting response... 302 Moved Temporarily\n",
            "Location: https://nube.jccm.es/index.php/s/Zs7SYtZQJ3RQ2H2/download [following]\n",
            "--2023-03-06 14:53:36--  https://nube.jccm.es/index.php/s/Zs7SYtZQJ3RQ2H2/download\n",
            "Connecting to nube.jccm.es (nube.jccm.es)|89.107.242.157|:443... connected.\n",
            "HTTP request sent, awaiting response... 200 OK\n",
            "Length: 68786819 (66M) [application/x-compressed]\n",
            "Saving to: ‘creditcard.tgz’\n",
            "\n",
            "creditcard.tgz      100%[===================>]  65.60M   793KB/s    in 86s     \n",
            "\n",
            "2023-03-06 14:55:02 (786 KB/s) - ‘creditcard.tgz’ saved [68786819/68786819]\n",
            "\n"
          ]
        }
      ],
      "source": [
        "if not os.path.isfile('data/creditcard.csv'):\n",
        "    !wget --no-check-certificate --content-disposition http://nube.jccm.es/index.php/s/Zs7SYtZQJ3RQ2H2/download\n",
        "    !tar xzf creditcard.tgz"
      ]
    },
    {
      "cell_type": "code",
      "execution_count": 14,
      "metadata": {
        "id": "z9Q-YUfBDZEq",
        "tags": [],
        "colab": {
          "base_uri": "https://localhost:8080/"
        },
        "outputId": "24241eeb-fd8a-4854-836c-11c45d12339f"
      },
      "outputs": [
        {
          "output_type": "stream",
          "name": "stdout",
          "text": [
            "Fraud: 0.173% 492\n",
            "Valid: 99.827% 284315\n",
            "X.shape (1492, 28)  y.shape (1492,)\n",
            "Fraud: 32.976% 492\n",
            "Valid: 67.024% 1000\n"
          ]
        }
      ],
      "source": [
        "random_state=1\n",
        "\n",
        "def load_creditcard(n_examples=0):\n",
        "    df = pd.read_csv('data/creditcard.csv')\n",
        "    print(\"Fraud: {0:.3f}% {1}\".format(df.Class[df.Class == 1].count()*100/df.shape[0], df.Class[df.Class == 1].count()))\n",
        "    print(\"Valid: {0:.3f}% {1}\".format(df.Class[df.Class == 0].count()*100/df.shape[0], df.Class[df.Class == 0].count()))\n",
        "    y = df.Class\n",
        "    X = df.drop(['Class', 'Time', 'Amount'], axis=1).values\n",
        "    if n_examples > 0:\n",
        "        # Take first n_examples samples\n",
        "        X = X[:n_examples, :]\n",
        "        y = y[:n_examples, :]\n",
        "    else:\n",
        "        # Take all the positive samples with a number of random negatives\n",
        "        if n_examples < 0:\n",
        "            Xt = X[(y == 1).ravel()]\n",
        "            yt = y[(y == 1).ravel()]\n",
        "            indices = random.sample(range(X.shape[0]), -1 * n_examples)\n",
        "            X = np.append(Xt, X[indices], axis=0)\n",
        "            y = np.append(yt, y[indices], axis=0)\n",
        "    print(\"X.shape\", X.shape, \" y.shape\", y.shape)\n",
        "    print(\"Fraud: {0:.3f}% {1}\".format(len(y[y == 1])*100/X.shape[0], len(y[y == 1])))\n",
        "    print(\"Valid: {0:.3f}% {1}\".format(len(y[y == 0]) * 100 / X.shape[0], len(y[y == 0])))\n",
        "    Xtrain, Xtest, ytrain, ytest = train_test_split(X, y, train_size=0.7, shuffle=True, random_state=random_state, stratify=y)\n",
        "    return Xtrain, Xtest, ytrain, ytest\n",
        "\n",
        "data = load_creditcard(-1000) \n",
        "#data = load_creditcard(0) # Take all the samples\n",
        "\n",
        "Xtrain = data[0]\n",
        "Xtest = data[1]\n",
        "ytrain = data[2]\n",
        "ytest = data[3]"
      ]
    },
    {
      "cell_type": "code",
      "source": [
        "from sklearn.ensemble import RandomForestClassifier\n",
        "\n",
        "# Create a Random Forest Classifier with specified criterion\n",
        "rf_class = RandomForestClassifier(criterion='entropy')\n",
        "\n",
        "# Create the parametergrid\n",
        "param_grid = {\n",
        "    'max_depth':[2, 4, 8, 15],\n",
        "    'max_features':['auto', 'sqrt']\n",
        "}\n",
        "\n",
        "# Create a GridSearchCV object\n",
        "grid_rf_class = GridSearchCV(\n",
        "    estimator=rf_class,\n",
        "    param_grid=param_grid,\n",
        "    scoring='roc_auc',\n",
        "    n_jobs=4,\n",
        "    cv=5,\n",
        "    refit=True,\n",
        "    return_train_score=True\n",
        ")\n",
        "\n",
        "print(grid_rf_class)"
      ],
      "metadata": {
        "colab": {
          "base_uri": "https://localhost:8080/"
        },
        "id": "Dz1X_aUHawYI",
        "outputId": "86bc124d-663d-4923-8ea1-b66002b44a40"
      },
      "execution_count": 15,
      "outputs": [
        {
          "output_type": "stream",
          "name": "stdout",
          "text": [
            "GridSearchCV(cv=5, estimator=RandomForestClassifier(criterion='entropy'),\n",
            "             n_jobs=4,\n",
            "             param_grid={'max_depth': [2, 4, 8, 15],\n",
            "                         'max_features': ['auto', 'sqrt']},\n",
            "             return_train_score=True, scoring='roc_auc')\n"
          ]
        }
      ]
    },
    {
      "cell_type": "markdown",
      "metadata": {
        "id": "oJfbencxfG7T"
      },
      "source": [
        "## Understanding a grid search output\n"
      ]
    },
    {
      "cell_type": "markdown",
      "metadata": {
        "id": "Y74qc1bAfG7U"
      },
      "source": [
        "### Exploring the grid search results\n",
        "You will now explore the `cv_results_` property of the GridSearchCV object. This is a dictionary that we can read into a pandas DataFrame and contains a lot of useful information about the grid search we just undertook.\n",
        "\n",
        "A reminder of the different column types in this property:\n",
        "\n",
        "- `time_` columns\n",
        "- `param_` columns (one for each hyperparameter) and the singular params column (with all hyperparameter settings)\n",
        "- a `train_score` column for each cv fold including the mean_train_score and std_train_score columns\n",
        "- a `test_score` column for each cv fold including the mean_test_score and std_test_score columns\n",
        "- a `rank_test_score` column with a number from 1 to n (number of iterations) ranking the rows based on their `mean_test_score`"
      ]
    },
    {
      "cell_type": "code",
      "execution_count": 16,
      "metadata": {
        "id": "tkzsW_H9fG7V",
        "outputId": "8814b5eb-ff30-4994-96d3-3994bf89e1b5",
        "colab": {
          "base_uri": "https://localhost:8080/"
        }
      },
      "outputs": [
        {
          "output_type": "stream",
          "name": "stdout",
          "text": [
            "   mean_fit_time  std_fit_time  mean_score_time  std_score_time  \\\n",
            "0       0.550368      0.068459         0.032146        0.004491   \n",
            "1       0.562965      0.029085         0.034830        0.002976   \n",
            "2       0.764004      0.062777         0.027176        0.011484   \n",
            "3       0.720883      0.054319         0.031080        0.004391   \n",
            "4       0.922846      0.036812         0.028044        0.000950   \n",
            "5       0.877358      0.071911         0.030115        0.003781   \n",
            "6       0.943463      0.017882         0.030261        0.002776   \n",
            "7       0.763517      0.115416         0.020940        0.006677   \n",
            "\n",
            "  param_max_depth param_max_features  \\\n",
            "0               2               auto   \n",
            "1               2               sqrt   \n",
            "2               4               auto   \n",
            "3               4               sqrt   \n",
            "4               8               auto   \n",
            "5               8               sqrt   \n",
            "6              15               auto   \n",
            "7              15               sqrt   \n",
            "\n",
            "                                      params  split0_test_score  \\\n",
            "0   {'max_depth': 2, 'max_features': 'auto'}           0.986749   \n",
            "1   {'max_depth': 2, 'max_features': 'sqrt'}           0.988302   \n",
            "2   {'max_depth': 4, 'max_features': 'auto'}           0.992650   \n",
            "3   {'max_depth': 4, 'max_features': 'sqrt'}           0.990166   \n",
            "4   {'max_depth': 8, 'max_features': 'auto'}           0.993892   \n",
            "5   {'max_depth': 8, 'max_features': 'sqrt'}           0.993892   \n",
            "6  {'max_depth': 15, 'max_features': 'auto'}           0.993892   \n",
            "7  {'max_depth': 15, 'max_features': 'sqrt'}           0.992547   \n",
            "\n",
            "   split1_test_score  split2_test_score  ...  mean_test_score  std_test_score  \\\n",
            "0           0.953830           0.972774  ...         0.969079        0.011316   \n",
            "1           0.957816           0.967133  ...         0.969048        0.010754   \n",
            "2           0.961387           0.978468  ...         0.974911        0.013095   \n",
            "3           0.965631           0.978157  ...         0.971452        0.013046   \n",
            "4           0.965010           0.978882  ...         0.975492        0.015200   \n",
            "5           0.969048           0.983747  ...         0.976902        0.015949   \n",
            "6           0.969462           0.986749  ...         0.976480        0.015274   \n",
            "7           0.971739           0.982609  ...         0.976258        0.014564   \n",
            "\n",
            "   rank_test_score  split0_train_score  split1_train_score  \\\n",
            "0                7            0.976990            0.980552   \n",
            "1                8            0.976977            0.981188   \n",
            "2                5            0.992357            0.994883   \n",
            "3                6            0.992669            0.995753   \n",
            "4                4            0.999922            0.999994   \n",
            "5                1            0.999851            0.999974   \n",
            "6                2            1.000000            1.000000   \n",
            "7                3            1.000000            1.000000   \n",
            "\n",
            "   split2_train_score  split3_train_score  split4_train_score  \\\n",
            "0            0.977503            0.981734            0.976097   \n",
            "1            0.978464            0.984016            0.977552   \n",
            "2            0.992110            0.994825            0.993815   \n",
            "3            0.992273            0.995974            0.991285   \n",
            "4            0.999961            0.999981            0.999968   \n",
            "5            0.999916            0.999994            0.999935   \n",
            "6            1.000000            1.000000            1.000000   \n",
            "7            1.000000            1.000000            1.000000   \n",
            "\n",
            "   mean_train_score  std_train_score  \n",
            "0          0.978575     2.176619e-03  \n",
            "1          0.979640     2.622181e-03  \n",
            "2          0.993598     1.179485e-03  \n",
            "3          0.993591     1.911036e-03  \n",
            "4          0.999965     2.415982e-05  \n",
            "5          0.999934     4.986197e-05  \n",
            "6          1.000000     4.965068e-17  \n",
            "7          1.000000     0.000000e+00  \n",
            "\n",
            "[8 rows x 22 columns]\n",
            "                                      params\n",
            "0   {'max_depth': 2, 'max_features': 'auto'}\n",
            "1   {'max_depth': 2, 'max_features': 'sqrt'}\n",
            "2   {'max_depth': 4, 'max_features': 'auto'}\n",
            "3   {'max_depth': 4, 'max_features': 'sqrt'}\n",
            "4   {'max_depth': 8, 'max_features': 'auto'}\n",
            "5   {'max_depth': 8, 'max_features': 'sqrt'}\n",
            "6  {'max_depth': 15, 'max_features': 'auto'}\n",
            "7  {'max_depth': 15, 'max_features': 'sqrt'}\n",
            "   mean_fit_time  std_fit_time  mean_score_time  std_score_time  \\\n",
            "5       0.877358      0.071911         0.030115        0.003781   \n",
            "\n",
            "  param_max_depth param_max_features  \\\n",
            "5               8               sqrt   \n",
            "\n",
            "                                     params  split0_test_score  \\\n",
            "5  {'max_depth': 8, 'max_features': 'sqrt'}           0.993892   \n",
            "\n",
            "   split1_test_score  split2_test_score  ...  mean_test_score  std_test_score  \\\n",
            "5           0.969048           0.983747  ...         0.976902        0.015949   \n",
            "\n",
            "   rank_test_score  split0_train_score  split1_train_score  \\\n",
            "5                1            0.999851            0.999974   \n",
            "\n",
            "   split2_train_score  split3_train_score  split4_train_score  \\\n",
            "5            0.999916            0.999994            0.999935   \n",
            "\n",
            "   mean_train_score  std_train_score  \n",
            "5          0.999934          0.00005  \n",
            "\n",
            "[1 rows x 22 columns]\n"
          ]
        }
      ],
      "source": [
        "grid_rf_class.fit(Xtrain, ytrain)\n",
        "\n",
        "# Read the cv_results property into adataframe & print it out\n",
        "cv_results_df = pd.DataFrame(grid_rf_class.cv_results_)\n",
        "print(cv_results_df)\n",
        "\n",
        "# Extract and print the column with a dictionary of hyperparameters used\n",
        "column = cv_results_df.loc[:, [\"params\"]]\n",
        "print(column)\n",
        "\n",
        "# Extract and print the row that had the best mean test score\n",
        "best_row = cv_results_df[cv_results_df['rank_test_score'] == 1]\n",
        "print(best_row)"
      ]
    },
    {
      "cell_type": "markdown",
      "metadata": {
        "id": "oNHzVUtHfG7W"
      },
      "source": [
        "### Analyzing the best results\n",
        "At the end of the day, we primarily care about the best performing 'square' in a grid search. Luckily Scikit Learn's `gridSearchCV` objects have a number of parameters that provide key information on just the best square (or row in `cv_results_`).\n",
        "\n",
        "Three properties you will explore are:\n",
        "\n",
        "- `best_score_` – The score (here ROC_AUC) from the best-performing square.\n",
        "- `best_index_` – The index of the row in `cv_results_` containing information on the best-performing square.\n",
        "- `best_params_` – A dictionary of the parameters that gave the best score, for example 'max_depth': 10"
      ]
    },
    {
      "cell_type": "code",
      "execution_count": 17,
      "metadata": {
        "id": "T3ZQdaHrfG7X",
        "outputId": "a91d8d09-b7de-40a2-adfb-d2bd22cf0247",
        "colab": {
          "base_uri": "https://localhost:8080/"
        }
      },
      "outputs": [
        {
          "output_type": "stream",
          "name": "stdout",
          "text": [
            "0.9769017172086226\n",
            "   mean_fit_time  std_fit_time  mean_score_time  std_score_time  \\\n",
            "5       0.877358      0.071911         0.030115        0.003781   \n",
            "\n",
            "  param_max_depth param_max_features  \\\n",
            "5               8               sqrt   \n",
            "\n",
            "                                     params  split0_test_score  \\\n",
            "5  {'max_depth': 8, 'max_features': 'sqrt'}           0.993892   \n",
            "\n",
            "   split1_test_score  split2_test_score  ...  mean_test_score  std_test_score  \\\n",
            "5           0.969048           0.983747  ...         0.976902        0.015949   \n",
            "\n",
            "   rank_test_score  split0_train_score  split1_train_score  \\\n",
            "5                1            0.999851            0.999974   \n",
            "\n",
            "   split2_train_score  split3_train_score  split4_train_score  \\\n",
            "5            0.999916            0.999994            0.999935   \n",
            "\n",
            "   mean_train_score  std_train_score  \n",
            "5          0.999934          0.00005  \n",
            "\n",
            "[1 rows x 22 columns]\n",
            "8\n"
          ]
        }
      ],
      "source": [
        "# Print out the ROC_AUC score from the best-performing square\n",
        "best_score = grid_rf_class.best_score_\n",
        "print(best_score)\n",
        "\n",
        "# Create a variable from the row related to the best-performing square\n",
        "cv_results_df = pd.DataFrame(grid_rf_class.cv_results_)\n",
        "best_row = cv_results_df.loc[[grid_rf_class.best_index_]]\n",
        "print(best_row)\n",
        "\n",
        "# Get the max_depth parameter from the best-performing square and print\n",
        "best_max_depth = grid_rf_class.best_params_['max_depth']\n",
        "print(best_max_depth)"
      ]
    },
    {
      "cell_type": "markdown",
      "metadata": {
        "id": "9XzmrNO2fG7Z"
      },
      "source": [
        "### Using the best results\n",
        "While it is interesting to analyze the results of our grid search, our final goal is practical in nature; we want to make predictions on our test set using our estimator object.\n",
        "\n",
        "We can access this object through the `best_estimator_` property of our grid search object.\n",
        "\n",
        "In this exercise we will take a look inside the `best_estimator_` property and then use this to make predictions on our test set for credit card defaults and generate a variety of scores. Remember to use `predict_proba` rather than `predict` since we need probability values rather than class labels for our roc_auc score. We use a slice `[:,1]` to get probabilities of the positive class."
      ]
    },
    {
      "cell_type": "code",
      "execution_count": 18,
      "metadata": {
        "id": "qkuaO070fG7Z",
        "outputId": "7b1b09dd-eed0-423c-e40b-7d1e2543a829",
        "colab": {
          "base_uri": "https://localhost:8080/"
        }
      },
      "outputs": [
        {
          "output_type": "stream",
          "name": "stdout",
          "text": [
            "<class 'sklearn.ensemble._forest.RandomForestClassifier'>\n",
            "[0 0 0 0 0]\n",
            "Confusion Matrix \n",
            " [[296   4]\n",
            " [ 19 129]]\n",
            "ROC-AUC Score \n",
            " 0.9792567567567567\n"
          ]
        }
      ],
      "source": [
        "from sklearn.metrics import confusion_matrix, roc_auc_score\n",
        "\n",
        "# See what type of object the best_estimator_property is\n",
        "print(type(grid_rf_class.best_estimator_))\n",
        "\n",
        "# Create an array of predictions directly using the best_estimator_property\n",
        "predictions = grid_rf_class.best_estimator_.predict(Xtest)\n",
        "\n",
        "# Take a look to confirm it worked, this should be an array of 1's and 0's\n",
        "print(predictions[0:5])\n",
        "\n",
        "# Now create a confusion matrix\n",
        "print(\"Confusion Matrix \\n\", confusion_matrix(ytest, predictions))\n",
        "\n",
        "# Get the ROC-AUC score\n",
        "predictions_proba = grid_rf_class.best_estimator_.predict_proba(Xtest)[:, 1]\n",
        "print(\"ROC-AUC Score \\n\", roc_auc_score(ytest, predictions_proba))"
      ]
    },
    {
      "cell_type": "markdown",
      "metadata": {
        "id": "QwY_f1AifG7b"
      },
      "source": [
        "The `.best_estimator_` property is a really powerful property to understand for streamlining your machine learning model building process. You now can run a grid search and seamlessly use the best model from that search to make predictions."
      ]
    },
    {
      "cell_type": "code",
      "source": [
        "print(\"Best estimator: \", grid_rf_class.best_estimator_)\n",
        "print(\"Best hyperparameters: \", grid_rf_class.best_params_)\n",
        "print(\"Best accuracy: \", grid_rf_class.best_score_)"
      ],
      "metadata": {
        "colab": {
          "base_uri": "https://localhost:8080/"
        },
        "id": "Kd5spgTucmOL",
        "outputId": "f0c61b43-36dc-4c20-b526-021c972b2a35"
      },
      "execution_count": 20,
      "outputs": [
        {
          "output_type": "stream",
          "name": "stdout",
          "text": [
            "Best estimator:  RandomForestClassifier(criterion='entropy', max_depth=8)\n",
            "Best hyperparameters:  {'max_depth': 8, 'max_features': 'sqrt'}\n",
            "Best accuracy:  0.9769017172086226\n"
          ]
        }
      ]
    },
    {
      "cell_type": "markdown",
      "source": [
        "# Plotting ROC curves"
      ],
      "metadata": {
        "id": "5gmlZ0T4dhL3"
      }
    },
    {
      "cell_type": "code",
      "source": [
        "import numpy as np\n",
        "import matplotlib.pyplot as plt\n",
        "from itertools import cycle\n",
        "\n",
        "from sklearn import svm, datasets\n",
        "from sklearn.metrics import roc_curve, auc\n",
        "from sklearn.model_selection import train_test_split\n",
        "from sklearn.preprocessing import label_binarize\n",
        "from sklearn.multiclass import OneVsRestClassifier\n",
        "from scipy import interp\n",
        "\n",
        "# Import some data to play with\n",
        "iris = datasets.load_iris()\n",
        "X = iris.data\n",
        "y = iris.target\n",
        "\n",
        "# Binarize the output\n",
        "y = label_binarize(y, classes=[0, 1, 2])\n",
        "n_classes = y.shape[1]\n",
        "\n",
        "# Add noisy features to make the problem harder\n",
        "random_state = np.random.RandomState(0)\n",
        "n_samples, n_features = X.shape\n",
        "X = np.c_[X, random_state.randn(n_samples, 200 * n_features)]\n",
        "\n",
        "# shuffle and split training and test sets\n",
        "X_train, X_test, y_train, y_test = train_test_split(X, y, test_size=.5,\n",
        "                                                    random_state=0)\n",
        "\n",
        "# Learn to predict each class against the other\n",
        "classifier = OneVsRestClassifier(svm.SVC(kernel='linear', probability=True,\n",
        "                                 random_state=random_state))\n",
        "y_score = classifier.fit(X_train, y_train).decision_function(X_test)\n",
        "\n",
        "# Compute ROC curve and ROC area for each class\n",
        "fpr = dict()\n",
        "tpr = dict()\n",
        "roc_auc = dict()\n",
        "for i in range(n_classes):\n",
        "    fpr[i], tpr[i], _ = roc_curve(y_test[:, i], y_score[:, i])\n",
        "    roc_auc[i] = auc(fpr[i], tpr[i])\n",
        "\n",
        "# Compute micro-average ROC curve and ROC area\n",
        "fpr[\"micro\"], tpr[\"micro\"], _ = roc_curve(y_test.ravel(), y_score.ravel())\n",
        "roc_auc[\"micro\"] = auc(fpr[\"micro\"], tpr[\"micro\"])"
      ],
      "metadata": {
        "id": "5SXWKf-rdIsH"
      },
      "execution_count": 21,
      "outputs": []
    },
    {
      "cell_type": "markdown",
      "metadata": {
        "id": "nKlzEhRydAYf"
      },
      "source": [
        "Plot of a ROC curve for a specific class\n",
        "\n"
      ]
    },
    {
      "cell_type": "code",
      "execution_count": 22,
      "metadata": {
        "id": "SjPuFhrYdAYg",
        "outputId": "316b240e-f20f-4a5f-8f8f-72cb0096a20d",
        "colab": {
          "base_uri": "https://localhost:8080/",
          "height": 295
        }
      },
      "outputs": [
        {
          "output_type": "display_data",
          "data": {
            "text/plain": [
              "<Figure size 432x288 with 1 Axes>"
            ],
            "image/png": "[encoded data removed]"
          },
          "metadata": {
            "needs_background": "light"
          }
        }
      ],
      "source": [
        "plt.figure()\n",
        "lw = 2\n",
        "plt.plot(fpr[2], tpr[2], color='darkorange',\n",
        "         lw=lw, label='ROC curve (area = %0.2f)' % roc_auc[2])\n",
        "plt.plot([0, 1], [0, 1], color='navy', lw=lw, linestyle='--')\n",
        "plt.xlim([0.0, 1.0])\n",
        "plt.ylim([0.0, 1.05])\n",
        "plt.xlabel('False Positive Rate')\n",
        "plt.ylabel('True Positive Rate')\n",
        "plt.title('Receiver operating characteristic example')\n",
        "plt.legend(loc=\"lower right\")\n",
        "plt.show()"
      ]
    },
    {
      "cell_type": "markdown",
      "metadata": {
        "id": "WbPZphe3dAYh"
      },
      "source": [
        "Plot ROC curves for the multiclass problem\n",
        "\n"
      ]
    },
    {
      "cell_type": "code",
      "execution_count": 24,
      "metadata": {
        "id": "TLs1t3kzdAYh",
        "outputId": "0a4e447d-ead0-4792-ab67-001c123a6efd",
        "colab": {
          "base_uri": "https://localhost:8080/",
          "height": 295
        }
      },
      "outputs": [
        {
          "output_type": "display_data",
          "data": {
            "text/plain": [
              "<Figure size 432x288 with 1 Axes>"
            ],
            "image/png": "[encoded data removed]"
          },
          "metadata": {
            "needs_background": "light"
          }
        }
      ],
      "source": [
        "# Compute macro-average ROC curve and ROC area\n",
        "\n",
        "# First aggregate all false positive rates\n",
        "all_fpr = np.unique(np.concatenate([fpr[i] for i in range(n_classes)]))\n",
        "\n",
        "# Then interpolate all ROC curves at this points\n",
        "mean_tpr = np.zeros_like(all_fpr)\n",
        "for i in range(n_classes):\n",
        "    mean_tpr += np.interp(all_fpr, fpr[i], tpr[i])\n",
        "\n",
        "# Finally average it and compute AUC\n",
        "mean_tpr /= n_classes\n",
        "\n",
        "fpr[\"macro\"] = all_fpr\n",
        "tpr[\"macro\"] = mean_tpr\n",
        "roc_auc[\"macro\"] = auc(fpr[\"macro\"], tpr[\"macro\"])\n",
        "\n",
        "# Plot all ROC curves\n",
        "plt.figure()\n",
        "plt.plot(fpr[\"micro\"], tpr[\"micro\"],\n",
        "         label='micro-average ROC curve (area = {0:0.2f})'\n",
        "               ''.format(roc_auc[\"micro\"]),\n",
        "         color='deeppink', linestyle=':', linewidth=4)\n",
        "\n",
        "plt.plot(fpr[\"macro\"], tpr[\"macro\"],\n",
        "         label='macro-average ROC curve (area = {0:0.2f})'\n",
        "               ''.format(roc_auc[\"macro\"]),\n",
        "         color='navy', linestyle=':', linewidth=4)\n",
        "\n",
        "colors = cycle(['aqua', 'darkorange', 'cornflowerblue'])\n",
        "for i, color in zip(range(n_classes), colors):\n",
        "    plt.plot(fpr[i], tpr[i], color=color, lw=lw,\n",
        "             label='ROC curve of class {0} (area = {1:0.2f})'\n",
        "             ''.format(i, roc_auc[i]))\n",
        "\n",
        "plt.plot([0, 1], [0, 1], 'k--', lw=lw)\n",
        "plt.xlim([0.0, 1.0])\n",
        "plt.ylim([0.0, 1.05])\n",
        "plt.xlabel('False Positive Rate')\n",
        "plt.ylabel('True Positive Rate')\n",
        "plt.title('Some extension of Receiver operating characteristic to multi-class')\n",
        "plt.legend(loc=\"lower right\")\n",
        "plt.show()"
      ]
    },
    {
      "cell_type": "markdown",
      "source": [
        "## Plotting Precision Recall Curves"
      ],
      "metadata": {
        "id": "XyKCRp1dfa2Q"
      }
    },
    {
      "metadata": {
        "id": "I4b1HAHx5lP-"
      },
      "cell_type": "code",
      "source": [
        "# Setup\n",
        "import matplotlib.pyplot as plt\n",
        "import pandas as pd\n",
        "import numpy as np\n",
        "\n",
        "from scipy.stats import norm\n",
        "from sklearn.metrics import precision_recall_curve\n",
        "from sklearn.metrics import classification_report\n",
        "from sklearn.metrics import roc_curve, auc"
      ],
      "execution_count": 25,
      "outputs": []
    },
    {
      "metadata": {
        "id": "-PGsieux5lQD"
      },
      "cell_type": "markdown",
      "source": [
        "## Generate normally distributed numpy arrays for two equally balanced classes"
      ]
    },
    {
      "metadata": {
        "id": "IIK8xO395lQH",
        "colab": {
          "base_uri": "https://localhost:8080/",
          "height": 295
        },
        "outputId": "53edf99a-9448-4379-9588-2cc2fb4a2f4f"
      },
      "cell_type": "code",
      "source": [
        "def normal_distribution(mu, sigma, N, bins, label, plt_color, is_plot=True):\n",
        "  # Simulate score data from a normal distribution based on: mu, sigma and N\n",
        "  scores = np.sort(norm.rvs(loc=mu, scale=sigma, size=N))\n",
        "  \n",
        "  # Get bell curve for reference\n",
        "  x = np.linspace(-4, 4, N)\n",
        "  bell = norm.pdf(x) * N * max(norm.pdf(x))\n",
        "  \n",
        "  if is_plot:\n",
        "    plt.hist(scores, density=0, color=plt_color, alpha=.5, bins=bins)\n",
        "    plt.plot(x+mu, bell, '--', label=label, color=plt_color)\n",
        "  \n",
        "  return scores, x, bell\n",
        "\n",
        "BINS = 20\n",
        "\n",
        "plt.figure()\n",
        "\n",
        "# Distribution for Negative class labels\n",
        "N1 = 10000\n",
        "mu1 = -1  # distribution is offset by -1 from the centre\n",
        "sigma1 = 1\n",
        "label1 = 'Negative class labels'\n",
        "scores1, x1, bell1 = normal_distribution(mu1, sigma1, N1, BINS, label1, plt_color='red')\n",
        "\n",
        "# Distribution for Positive class labels\n",
        "N2 = 10000\n",
        "mu2 = 0\n",
        "sigma2 = 1\n",
        "label2 = 'Positive class labels'\n",
        "scores2, x2, bell2 = normal_distribution(mu2, sigma2, N2, BINS, label2, plt_color='green')\n",
        "\n",
        "# Plot\n",
        "plt.title(\"Normal distribution plots of Negative and Positive class labels\")\n",
        "plt.xlabel('Score')\n",
        "plt.ylabel('Count')\n",
        "plt.grid(True)\n",
        "plt.legend()\n",
        "plt.show()"
      ],
      "execution_count": 28,
      "outputs": [
        {
          "output_type": "display_data",
          "data": {
            "text/plain": [
              "<Figure size 432x288 with 1 Axes>"
            ],
            "image/png": "[encoded data removed]"
          },
          "metadata": {
            "needs_background": "light"
          }
        }
      ]
    },
    {
      "metadata": {
        "id": "ex6rutLX5lQT"
      },
      "cell_type": "markdown",
      "source": [
        "# Build two lists for (i) all the true labels (ii) all the score values"
      ]
    },
    {
      "metadata": {
        "id": "FfIVOfol5lQU",
        "colab": {
          "base_uri": "https://localhost:8080/"
        },
        "outputId": "e02545e1-906f-4773-8b1d-fccb3ff12c24"
      },
      "cell_type": "code",
      "source": [
        "# Append the true class labels to the list of negative class labels\n",
        "y_true = N1*[0] + N2*[1] \n",
        "y_score = list(scores1) + list(scores2)\n",
        "y_score = [np.round(y,2) for y in y_score]\n",
        "\n",
        "print(\"N1, N2:\", N1, N2)\n",
        "print(\"len(y_true):\", len(y_true))\n",
        "assert(len(y_true) == len(y_score))\n",
        "print(\"---\")\n",
        "\n",
        "print(\"Mid 10 values (right most negative red scores, left most positive green scores:\")\n",
        "print(\"y_true[N1-5:N1+5]:\", y_true[N1-5:N1+5])\n",
        "print(\"y_score[N1-5:N1+5]:\", y_score[N1-5:N1+5])\n"
      ],
      "execution_count": 29,
      "outputs": [
        {
          "output_type": "stream",
          "name": "stdout",
          "text": [
            "N1, N2: 10000 10000\n",
            "len(y_true): 20000\n",
            "---\n",
            "Mid 10 values (right most negative red scores, left most positive green scores:\n",
            "y_true[N1-5:N1+5]: [0, 0, 0, 0, 0, 1, 1, 1, 1, 1]\n",
            "y_score[N1-5:N1+5]: [2.26, 2.37, 2.39, 2.55, 2.83, -3.69, -3.49, -3.4, -3.37, -3.29]\n"
          ]
        }
      ]
    },
    {
      "metadata": {
        "id": "GofF3F6o9TeW"
      },
      "cell_type": "markdown",
      "source": [
        "  ## Print confusion matrix & classification report for different classification thresholds"
      ]
    },
    {
      "metadata": {
        "id": "TMX26jW_9TqW",
        "colab": {
          "base_uri": "https://localhost:8080/"
        },
        "outputId": "c4243ee9-7d58-4caa-d168-e8b67db8773c"
      },
      "cell_type": "code",
      "source": [
        "for threshold in [-1, -0.5, 0]:  # test 3 score thresholds which are used to determine if a class is predicted to be 0 or 1\n",
        "  print(\"threshold:\", threshold)\n",
        "  print(\"----------\")\n",
        "  y_pred = [0 if y < threshold else 1 for y in y_score]\n",
        "\n",
        "  # from sklearn.metrics import confusion_matrix\n",
        "  # cm = confusion_matrix(y_true, y_pred)\n",
        "\n",
        "  # Pandas 'crosstab' displays a better formated confusion matrix than the one in sklearn\n",
        "  cm = pd.crosstab(pd.Series(y_true), pd.Series(y_pred), rownames=['Reality'], colnames=['Predicted'], margins=True)\n",
        "  print(cm) \n",
        "\n",
        "  print()\n",
        "  print(\"Classification report:\")\n",
        "  print(classification_report(y_true, y_pred))\n",
        "  print()"
      ],
      "execution_count": 30,
      "outputs": [
        {
          "output_type": "stream",
          "name": "stdout",
          "text": [
            "threshold: -1\n",
            "----------\n",
            "Predicted     0      1    All\n",
            "Reality                      \n",
            "0          4930   5070  10000\n",
            "1          1601   8399  10000\n",
            "All        6531  13469  20000\n",
            "\n",
            "Classification report:\n",
            "              precision    recall  f1-score   support\n",
            "\n",
            "           0       0.75      0.49      0.60     10000\n",
            "           1       0.62      0.84      0.72     10000\n",
            "\n",
            "    accuracy                           0.67     20000\n",
            "   macro avg       0.69      0.67      0.66     20000\n",
            "weighted avg       0.69      0.67      0.66     20000\n",
            "\n",
            "\n",
            "threshold: -0.5\n",
            "----------\n",
            "Predicted     0      1    All\n",
            "Reality                      \n",
            "0          6809   3191  10000\n",
            "1          3150   6850  10000\n",
            "All        9959  10041  20000\n",
            "\n",
            "Classification report:\n",
            "              precision    recall  f1-score   support\n",
            "\n",
            "           0       0.68      0.68      0.68     10000\n",
            "           1       0.68      0.69      0.68     10000\n",
            "\n",
            "    accuracy                           0.68     20000\n",
            "   macro avg       0.68      0.68      0.68     20000\n",
            "weighted avg       0.68      0.68      0.68     20000\n",
            "\n",
            "\n",
            "threshold: 0\n",
            "----------\n",
            "Predicted      0     1    All\n",
            "Reality                      \n",
            "0           8363  1637  10000\n",
            "1           5011  4989  10000\n",
            "All        13374  6626  20000\n",
            "\n",
            "Classification report:\n",
            "              precision    recall  f1-score   support\n",
            "\n",
            "           0       0.63      0.84      0.72     10000\n",
            "           1       0.75      0.50      0.60     10000\n",
            "\n",
            "    accuracy                           0.67     20000\n",
            "   macro avg       0.69      0.67      0.66     20000\n",
            "weighted avg       0.69      0.67      0.66     20000\n",
            "\n",
            "\n"
          ]
        }
      ]
    },
    {
      "metadata": {
        "id": "Afe1Op8EiYuA"
      },
      "cell_type": "markdown",
      "source": [
        "## Precision-Recall curves"
      ]
    },
    {
      "metadata": {
        "id": "ladaDy_LiZJy",
        "colab": {
          "base_uri": "https://localhost:8080/",
          "height": 251
        },
        "outputId": "7395c4e5-5e13-4ada-8cb0-e087df713c6a"
      },
      "cell_type": "code",
      "source": [
        "# Get ROC curve FPR and TPR from true labels vs score values\n",
        "fpr, tpr, _ = roc_curve(y_true, y_score)\n",
        "\n",
        "# Calculate ROC Area Under the Curve (AUC) from FPR and TPR data points\n",
        "roc_auc = auc(fpr, tpr)\n",
        "\n",
        "# Calculate precision and recall from true labels vs score values\n",
        "precision, recall, _ = precision_recall_curve(y_true, y_score)\n",
        "\n",
        "plt.figure(figsize=(8, 3))\n",
        "\n",
        "plt.subplot(1,2,1)\n",
        "lw = 2\n",
        "plt.plot(fpr, tpr, color='darkorange', lw=lw, label='ROC curve (area = %0.4f)' % roc_auc)\n",
        "plt.plot([0, 1], [0, 1], color='navy', lw=lw, linestyle='--')\n",
        "plt.xlim([0.0, 1.0])\n",
        "plt.ylim([0.0, 1.05])\n",
        "plt.xlabel('False Positive Rate')\n",
        "plt.ylabel('True Positive Rate')\n",
        "plt.title('ROC Curve')\n",
        "plt.legend(loc=\"lower right\")\n",
        "plt.grid(True)\n",
        "\n",
        "plt.subplot(1,2,2)\n",
        "plt.step(recall, precision, color='orange', where='post')\n",
        "# plt.fill_between(recall, precision, step='post', alpha=0.5, color='orange')\n",
        "plt.xlabel('Recall')\n",
        "plt.ylabel('Precision')\n",
        "plt.ylim([0.0, 1.05])\n",
        "plt.xlim([0.0, 1.0])\n",
        "plt.title('Precision Recall Curve')\n",
        "plt.grid(True)\n",
        "\n",
        "left  = 0.125  # the left side of the subplots of the figure\n",
        "right = 0.9    # the right side of the subplots of the figure\n",
        "bottom = 0.1   # the bottom of the subplots of the figure\n",
        "top = 0.9      # the top of the subplots of the figure\n",
        "wspace = 0.5   # the amount of width reserved for blank space between subplots\n",
        "hspace = 0.2   # the amount of height reserved for white space between subplots\n",
        "plt.subplots_adjust(left, bottom, right, top, wspace, hspace)\n",
        "plt.show()"
      ],
      "execution_count": 31,
      "outputs": [
        {
          "output_type": "display_data",
          "data": {
            "text/plain": [
              "<Figure size 576x216 with 2 Axes>"
            ],
            "image/png": "[encoded data removed]"
          },
          "metadata": {
            "needs_background": "light"
          }
        }
      ]
    },
    {
      "cell_type": "markdown",
      "source": [
        "# Sources\n",
        "\n",
        "https://towardsdatascience.com/data-sampling-methods-in-python-a4400628ea1b\n",
        "\n",
        "https://colab.research.google.com/github/rpi-techfundamentals/spring2019-materials/blob/master/05-intro-modeling/04-svm-roc.ipynb\n",
        "\n"
      ],
      "metadata": {
        "id": "-sxde4fCWR6E"
      }
    }
  ]
}